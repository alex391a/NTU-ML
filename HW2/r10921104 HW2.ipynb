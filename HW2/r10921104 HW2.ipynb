{
  "cells": [
    {
      "cell_type": "markdown",
      "metadata": {
        "id": "OYlaRwNu7ojq"
      },
      "source": [
        "# **Homework 2 Phoneme Classification**\n",
        "\n",
        "* Slides: https://docs.google.com/presentation/d/1v6HkBWiJb8WNDcJ9_-2kwVstxUWml87b9CnA16Gdoio/edit?usp=sharing\n",
        "* Kaggle: https://www.kaggle.com/c/ml2022spring-hw2\n",
        "* Video: TBA\n"
      ]
    },
    {
      "cell_type": "code",
      "execution_count": 1,
      "metadata": {
        "id": "mLQI0mNcmM-O",
        "colab": {
          "base_uri": "https://localhost:8080/"
        },
        "outputId": "0b8898a4-26e2-4cb7-90d0-e6e2ebe0cf0c"
      },
      "outputs": [
        {
          "output_type": "stream",
          "name": "stdout",
          "text": [
            "Fri Mar  4 14:18:54 2022       \n",
            "+-----------------------------------------------------------------------------+\n",
            "| NVIDIA-SMI 460.32.03    Driver Version: 460.32.03    CUDA Version: 11.2     |\n",
            "|-------------------------------+----------------------+----------------------+\n",
            "| GPU  Name        Persistence-M| Bus-Id        Disp.A | Volatile Uncorr. ECC |\n",
            "| Fan  Temp  Perf  Pwr:Usage/Cap|         Memory-Usage | GPU-Util  Compute M. |\n",
            "|                               |                      |               MIG M. |\n",
            "|===============================+======================+======================|\n",
            "|   0  Tesla T4            Off  | 00000000:00:04.0 Off |                    0 |\n",
            "| N/A   45C    P8     9W /  70W |      0MiB / 15109MiB |      0%      Default |\n",
            "|                               |                      |                  N/A |\n",
            "+-------------------------------+----------------------+----------------------+\n",
            "                                                                               \n",
            "+-----------------------------------------------------------------------------+\n",
            "| Processes:                                                                  |\n",
            "|  GPU   GI   CI        PID   Type   Process name                  GPU Memory |\n",
            "|        ID   ID                                                   Usage      |\n",
            "|=============================================================================|\n",
            "|  No running processes found                                                 |\n",
            "+-----------------------------------------------------------------------------+\n"
          ]
        }
      ],
      "source": [
        "!nvidia-smi"
      ]
    },
    {
      "cell_type": "markdown",
      "metadata": {
        "id": "KVUGfWTo7_Oj"
      },
      "source": [
        "## Download Data\n",
        "Download data from google drive, then unzip it.\n",
        "\n",
        "You should have\n",
        "- `libriphone/train_split.txt`\n",
        "- `libriphone/train_labels`\n",
        "- `libriphone/test_split.txt`\n",
        "- `libriphone/feat/train/*.pt`: training feature<br>\n",
        "- `libriphone/feat/test/*.pt`:  testing feature<br>\n",
        "\n",
        "after running the following block.\n",
        "\n",
        "> **Notes: if the google drive link is dead, you can download the data directly from [Kaggle](https://www.kaggle.com/c/ml2022spring-hw2/data) and upload it to the workspace**\n"
      ]
    },
    {
      "cell_type": "markdown",
      "metadata": {
        "id": "Bj5jYXsD9Ef3"
      },
      "source": [
        "### Download train/test metadata"
      ]
    },
    {
      "cell_type": "code",
      "execution_count": 2,
      "metadata": {
        "colab": {
          "base_uri": "https://localhost:8080/"
        },
        "id": "OzkiMEcC3Foq",
        "outputId": "69d0a0c2-b4d0-4705-8860-34e59a6634fd"
      },
      "outputs": [
        {
          "output_type": "stream",
          "name": "stdout",
          "text": [
            "Requirement already satisfied: gdown in /usr/local/lib/python3.7/dist-packages (4.2.2)\n",
            "Collecting gdown\n",
            "  Downloading gdown-4.4.0.tar.gz (14 kB)\n",
            "  Installing build dependencies ... \u001b[?25l\u001b[?25hdone\n",
            "  Getting requirements to build wheel ... \u001b[?25l\u001b[?25hdone\n",
            "    Preparing wheel metadata ... \u001b[?25l\u001b[?25hdone\n",
            "Requirement already satisfied: tqdm in /usr/local/lib/python3.7/dist-packages (from gdown) (4.63.0)\n",
            "Requirement already satisfied: requests[socks] in /usr/local/lib/python3.7/dist-packages (from gdown) (2.23.0)\n",
            "Requirement already satisfied: filelock in /usr/local/lib/python3.7/dist-packages (from gdown) (3.6.0)\n",
            "Requirement already satisfied: beautifulsoup4 in /usr/local/lib/python3.7/dist-packages (from gdown) (4.6.3)\n",
            "Requirement already satisfied: six in /usr/local/lib/python3.7/dist-packages (from gdown) (1.15.0)\n",
            "Requirement already satisfied: certifi>=2017.4.17 in /usr/local/lib/python3.7/dist-packages (from requests[socks]->gdown) (2021.10.8)\n",
            "Requirement already satisfied: idna<3,>=2.5 in /usr/local/lib/python3.7/dist-packages (from requests[socks]->gdown) (2.10)\n",
            "Requirement already satisfied: urllib3!=1.25.0,!=1.25.1,<1.26,>=1.21.1 in /usr/local/lib/python3.7/dist-packages (from requests[socks]->gdown) (1.24.3)\n",
            "Requirement already satisfied: chardet<4,>=3.0.2 in /usr/local/lib/python3.7/dist-packages (from requests[socks]->gdown) (3.0.4)\n",
            "Requirement already satisfied: PySocks!=1.5.7,>=1.5.6 in /usr/local/lib/python3.7/dist-packages (from requests[socks]->gdown) (1.7.1)\n",
            "Building wheels for collected packages: gdown\n",
            "  Building wheel for gdown (PEP 517) ... \u001b[?25l\u001b[?25hdone\n",
            "  Created wheel for gdown: filename=gdown-4.4.0-py3-none-any.whl size=14774 sha256=1eb1fdf4a1b700d05fed2d4d4c98ebb4a7b7bbbb0da5b39532b431bcd3f4cd60\n",
            "  Stored in directory: /root/.cache/pip/wheels/fb/c3/0e/c4d8ff8bfcb0461afff199471449f642179b74968c15b7a69c\n",
            "Successfully built gdown\n",
            "Installing collected packages: gdown\n",
            "  Attempting uninstall: gdown\n",
            "    Found existing installation: gdown 4.2.2\n",
            "    Uninstalling gdown-4.2.2:\n",
            "      Successfully uninstalled gdown-4.2.2\n",
            "Successfully installed gdown-4.4.0\n",
            "/usr/local/lib/python3.7/dist-packages/gdown/cli.py:131: FutureWarning: Option `--id` was deprecated in version 4.3.1 and will be removed in 5.0. You don't need to pass it anymore to use a file ID.\n",
            "  category=FutureWarning,\n",
            "Downloading...\n",
            "From: https://drive.google.com/uc?id=1o6Ag-G3qItSmYhTheX6DYiuyNzWyHyTc\n",
            "To: /content/libriphone.zip\n",
            "100% 479M/479M [00:01<00:00, 258MB/s]\n",
            "feat  test_split.txt  train_labels.txt\ttrain_split.txt\n"
          ]
        }
      ],
      "source": [
        "!pip install --upgrade gdown\n",
        "\n",
        "# Main link\n",
        "!gdown --id '1o6Ag-G3qItSmYhTheX6DYiuyNzWyHyTc' --output libriphone.zip\n",
        "\n",
        "# Backup link 1\n",
        "# !gdown --id '1R1uQYi4QpX0tBfUWt2mbZcncdBsJkxeW' --output libriphone.zip\n",
        "\n",
        "# Bqckup link 2\n",
        "# !wget -O libriphone.zip \"https://www.dropbox.com/s/wqww8c5dbrl2ka9/libriphone.zip?dl=1\"\n",
        "\n",
        "!unzip -q libriphone.zip\n",
        "!ls libriphone"
      ]
    },
    {
      "cell_type": "code",
      "source": [
        "from google.colab import drive\n",
        "drive.mount('/content/drive')"
      ],
      "metadata": {
        "colab": {
          "base_uri": "https://localhost:8080/"
        },
        "id": "ktmAYpmJrEYf",
        "outputId": "a9487baa-4da7-483e-d4f9-eef2a7693663"
      },
      "execution_count": 3,
      "outputs": [
        {
          "output_type": "stream",
          "name": "stdout",
          "text": [
            "Mounted at /content/drive\n"
          ]
        }
      ]
    },
    {
      "cell_type": "markdown",
      "metadata": {
        "id": "_L_4anls8Drv"
      },
      "source": [
        "### Preparing Data"
      ]
    },
    {
      "cell_type": "markdown",
      "metadata": {
        "id": "po4N3C-AWuWl"
      },
      "source": [
        "**Helper functions to pre-process the training data from raw MFCC features of each utterance.**\n",
        "\n",
        "A phoneme may span several frames and is dependent to past and future frames. \\\n",
        "Hence we concatenate neighboring phonemes for training to achieve higher accuracy. The **concat_feat** function concatenates past and future k frames (total 2k+1 = n frames), and we predict the center frame.\n",
        "\n",
        "Feel free to modify the data preprocess functions, but **do not drop any frame** (if you modify the functions, remember to check that the number of frames are the same as mentioned in the slides)"
      ]
    },
    {
      "cell_type": "code",
      "execution_count": 4,
      "metadata": {
        "id": "IJjLT8em-y9G"
      },
      "outputs": [],
      "source": [
        "import os\n",
        "import random\n",
        "import pandas as pd\n",
        "import torch\n",
        "from tqdm import tqdm\n",
        "\n",
        "def load_feat(path):\n",
        "    feat = torch.load(path)\n",
        "    return feat\n",
        "\n",
        "def shift(x, n):\n",
        "    if n < 0:\n",
        "        left = x[0].repeat(-n, 1)\n",
        "        right = x[:n]\n",
        "\n",
        "    elif n > 0:\n",
        "        right = x[-1].repeat(n, 1)\n",
        "        left = x[n:]\n",
        "    else:\n",
        "        return x\n",
        "\n",
        "    return torch.cat((left, right), dim=0)\n",
        "\n",
        "def concat_feat(x, concat_n):\n",
        "    assert concat_n % 2 == 1 # n must be odd\n",
        "    if concat_n < 2:\n",
        "        return x\n",
        "    seq_len, feature_dim = x.size(0), x.size(1)\n",
        "    x = x.repeat(1, concat_n) \n",
        "    x = x.view(seq_len, concat_n, feature_dim).permute(1, 0, 2) # concat_n, seq_len, feature_dim\n",
        "    mid = (concat_n // 2)\n",
        "    for r_idx in range(1, mid+1):\n",
        "        x[mid + r_idx, :] = shift(x[mid + r_idx], r_idx)\n",
        "        x[mid - r_idx, :] = shift(x[mid - r_idx], -r_idx)\n",
        "    return x.permute(1, 0, 2)\n",
        "    #return x.permute(1, 0, 2).view(seq_len, concat_n , feature_dim)\n",
        "\n",
        "def preprocess_data(split, feat_dir, phone_path, concat_nframes, train_ratio=0.8, train_val_seed=1337):\n",
        "    class_num = 41 # NOTE: pre-computed, should not need change\n",
        "    mode = 'train' if (split == 'train' or split == 'val') else 'test'\n",
        "\n",
        "    label_dict = {}\n",
        "    if mode != 'test':\n",
        "      phone_file = open(os.path.join(phone_path, f'{mode}_labels.txt')).readlines()\n",
        "\n",
        "      for line in phone_file:\n",
        "          line = line.strip('\\n').split(' ')\n",
        "          label_dict[line[0]] = [int(p) for p in line[1:]]\n",
        "\n",
        "    if split == 'train' or split == 'val':\n",
        "        # split training and validation data\n",
        "        usage_list = open(os.path.join(phone_path, 'train_split.txt')).readlines()\n",
        "        random.seed(train_val_seed)\n",
        "        random.shuffle(usage_list)\n",
        "        percent = int(len(usage_list) * train_ratio)\n",
        "        usage_list = usage_list[:percent] if split == 'train' else usage_list[percent:]\n",
        "    elif split == 'test':\n",
        "        usage_list = open(os.path.join(phone_path, 'test_split.txt')).readlines()\n",
        "    else:\n",
        "        raise ValueError('Invalid \\'split\\' argument for dataset: PhoneDataset!')\n",
        "\n",
        "    usage_list = [line.strip('\\n') for line in usage_list]\n",
        "    print('[Dataset] - # phone classes: ' + str(class_num) + ', number of utterances for ' + split + ': ' + str(len(usage_list)))\n",
        "\n",
        "    max_len = 3000000\n",
        "    X = torch.empty(max_len, concat_nframes , 39)\n",
        "    if mode != 'test':\n",
        "      y = torch.empty(max_len, dtype=torch.long)\n",
        "\n",
        "    idx = 0\n",
        "    for i, fname in tqdm(enumerate(usage_list)):\n",
        "        feat = load_feat(os.path.join(feat_dir, mode, f'{fname}.pt'))\n",
        "        cur_len = len(feat)\n",
        "        feat = concat_feat(feat, concat_nframes)\n",
        "        if mode != 'test':\n",
        "          label = torch.LongTensor(label_dict[fname])\n",
        "\n",
        "        X[idx: idx + cur_len, :,:] = feat\n",
        "        if mode != 'test':\n",
        "          y[idx: idx + cur_len] = label\n",
        "\n",
        "        idx += cur_len\n",
        "\n",
        "    X = X[:idx, :]\n",
        "    if mode != 'test':\n",
        "      y = y[:idx]\n",
        "\n",
        "    print(f'[INFO] {split} set')\n",
        "    print(X.shape)\n",
        "    if mode != 'test':\n",
        "      print(y.shape)\n",
        "      return X, y\n",
        "    else:\n",
        "      return X\n"
      ]
    },
    {
      "cell_type": "markdown",
      "metadata": {
        "id": "us5XW_x6udZQ"
      },
      "source": [
        "## Define Dataset"
      ]
    },
    {
      "cell_type": "code",
      "execution_count": 5,
      "metadata": {
        "id": "Fjf5EcmJtf4e"
      },
      "outputs": [],
      "source": [
        "import torch\n",
        "from torch.utils.data import Dataset\n",
        "from torch.utils.data import DataLoader\n",
        "\n",
        "class LibriDataset(Dataset):\n",
        "    def __init__(self, X, y=None):\n",
        "        self.data = X\n",
        "        if y is not None:\n",
        "            self.label = torch.LongTensor(y)\n",
        "        else:\n",
        "            self.label = None\n",
        "\n",
        "    def __getitem__(self, idx):\n",
        "        if self.label is not None:\n",
        "            return self.data[idx], self.label[idx]\n",
        "        else:\n",
        "            return self.data[idx]\n",
        "\n",
        "    def __len__(self):\n",
        "        return len(self.data)\n"
      ]
    },
    {
      "cell_type": "markdown",
      "metadata": {
        "id": "IRqKNvNZwe3V"
      },
      "source": [
        "## Define Model"
      ]
    },
    {
      "cell_type": "code",
      "execution_count": 6,
      "metadata": {
        "id": "Bg-GRd7ywdrL"
      },
      "outputs": [],
      "source": [
        "import torch\n",
        "import torch.nn as nn\n",
        "import torch.nn.functional as F\n",
        "\n",
        "class BasicBlock(nn.Module):\n",
        "    def __init__(self, input_dim, output_dim):\n",
        "        super(BasicBlock, self).__init__()\n",
        "\n",
        "        self.block = nn.Sequential(\n",
        "            nn.Linear(input_dim, output_dim),\n",
        "            nn.BatchNorm1d(output_dim),\n",
        "            nn.ReLU(),\n",
        "            nn.Dropout(0.3),\n",
        "        )\n",
        "\n",
        "    def forward(self, x):\n",
        "        x = self.block(x)\n",
        "        return x\n",
        "\n",
        "\n",
        "class Classifier(nn.Module):\n",
        "    def __init__(self, input_dim, output_dim=41, hidden_layers=5, hidden_dim=256,concat_nframes=5):\n",
        "        super(Classifier, self).__init__()\n",
        "        self.frameNum=concat_nframes\n",
        "        self.hd=hidden_dim\n",
        "        self.lstm=nn.LSTM(\n",
        "            input_size = input_dim, #一開始的維度輸入\n",
        "            hidden_size=self.hd, # 輸出幾維資料\n",
        "            num_layers=3, # 幾顆LSTM疊一起\n",
        "            batch_first=True,\n",
        "            bidirectional=False)\n",
        "        self.rnn=nn.RNN(\n",
        "            input_size = input_dim,\n",
        "            hidden_size=self.hd, \n",
        "            num_layers=3, \n",
        "            batch_first=True,\n",
        "            bidirectional=False)\n",
        "        \n",
        "        self.fc1 = nn.Sequential(\n",
        "\n",
        "            BasicBlock(self.hd, hidden_dim),\n",
        "            *[BasicBlock(hidden_dim, hidden_dim) for _ in range(hidden_layers)],\n",
        "            nn.Linear(hidden_dim, output_dim)\n",
        "        )\n",
        "        self.fc2 = nn.Sequential(\n",
        "\n",
        "            BasicBlock(self.hd * self.frameNum, hidden_dim),\n",
        "            *[BasicBlock(hidden_dim, hidden_dim) for _ in range(hidden_layers)],\n",
        "            nn.Linear(hidden_dim, output_dim)\n",
        "        )\n",
        "        self.line1= nn.Linear(hidden_dim, output_dim)\n",
        "        self.line2= nn.Linear(hidden_dim * self.frameNum, output_dim)\n",
        "        self.relu=nn.ReLU()\n",
        "    def forward(self, x):\n",
        "        #x ,(h,c)= self.lstm(x,None)\n",
        "        x , h = self.rnn(x,None)\n",
        "        #out = self.fc1(x[:,-1,:].squeeze(0))\n",
        "        out = self.fc2(x.reshape(-1,self.frameNum*self.hd))\n",
        "        # out = self.line1(x[:,-1,:].squeeze(0))\n",
        "        # out = self.line2(x.reshape(-1,self.frameNum*self.hd))\n",
        "        # out = self.relu(out)\n",
        "\n",
        "        \n",
        "\n",
        "        return out"
      ]
    },
    {
      "cell_type": "markdown",
      "source": [
        "## Hyper-parameters"
      ],
      "metadata": {
        "id": "TlIq8JeqvvHC"
      }
    },
    {
      "cell_type": "code",
      "source": [
        "# data prarameters\n",
        "concat_nframes = 31              # the number of frames to concat with, n must be odd (total 2k+1 = n frames)\n",
        "train_ratio = 0.8               # the ratio of data used for training, the rest will be used for validation\n",
        "\n",
        "# training parameters\n",
        "seed = 34                        # random seed\n",
        "batch_size = 10000               # batch size\n",
        "num_epoch = 500                   # the number of training epoch\n",
        "learning_rate = 0.0001          # learning rate\n",
        "model_path = '/content/drive/MyDrive/model.ckpt'     # the path where the checkpoint will be saved\n",
        "\n",
        "# model parameters\n",
        "#input_dim = 39 * concat_nframes # the input dim of the model, you should not change the value\n",
        "input_dim = 39\n",
        "hidden_layers = 2               # the number of hidden layers\n",
        "hidden_dim = 128                # the hidden dim"
      ],
      "metadata": {
        "id": "iIHn79Iav1ri"
      },
      "execution_count": 15,
      "outputs": []
    },
    {
      "cell_type": "markdown",
      "source": [
        "## Prepare dataset and model"
      ],
      "metadata": {
        "id": "IIUFRgG5yoDn"
      }
    },
    {
      "cell_type": "code",
      "source": [
        "import gc\n",
        "\n",
        "# preprocess data\n",
        "train_X, train_y = preprocess_data(split='train', feat_dir='./libriphone/feat', phone_path='./libriphone', concat_nframes=concat_nframes, train_ratio=train_ratio)\n",
        "val_X, val_y = preprocess_data(split='val', feat_dir='./libriphone/feat', phone_path='./libriphone', concat_nframes=concat_nframes, train_ratio=train_ratio)\n",
        "\n",
        "# get dataset\n",
        "train_set = LibriDataset(train_X, train_y)\n",
        "val_set = LibriDataset(val_X, val_y)\n",
        "\n",
        "# remove raw feature to save memory\n",
        "del train_X, train_y, val_X, val_y\n",
        "gc.collect()\n",
        "\n",
        "# get dataloader\n",
        "train_loader = DataLoader(train_set, batch_size=batch_size, shuffle=True)\n",
        "val_loader = DataLoader(val_set, batch_size=batch_size, shuffle=False)"
      ],
      "metadata": {
        "id": "c1zI3v5jyrDn",
        "colab": {
          "base_uri": "https://localhost:8080/"
        },
        "outputId": "80d8f10b-a585-4258-e789-2ed95a465392"
      },
      "execution_count": 16,
      "outputs": [
        {
          "output_type": "stream",
          "name": "stdout",
          "text": [
            "[Dataset] - # phone classes: 41, number of utterances for train: 3428\n"
          ]
        },
        {
          "output_type": "stream",
          "name": "stderr",
          "text": [
            "3428it [00:02, 1285.98it/s]\n"
          ]
        },
        {
          "output_type": "stream",
          "name": "stdout",
          "text": [
            "[INFO] train set\n",
            "torch.Size([2116368, 5, 39])\n",
            "torch.Size([2116368])\n",
            "[Dataset] - # phone classes: 41, number of utterances for val: 858\n"
          ]
        },
        {
          "output_type": "stream",
          "name": "stderr",
          "text": [
            "858it [00:00, 1288.25it/s]\n"
          ]
        },
        {
          "output_type": "stream",
          "name": "stdout",
          "text": [
            "[INFO] val set\n",
            "torch.Size([527790, 5, 39])\n",
            "torch.Size([527790])\n"
          ]
        }
      ]
    },
    {
      "cell_type": "code",
      "execution_count": 9,
      "metadata": {
        "id": "CfRUEgC0GxUV",
        "colab": {
          "base_uri": "https://localhost:8080/"
        },
        "outputId": "b4f80db5-91d6-420c-99d0-e9677d6f1061"
      },
      "outputs": [
        {
          "output_type": "stream",
          "name": "stdout",
          "text": [
            "DEVICE: cuda:0\n"
          ]
        }
      ],
      "source": [
        "device = 'cuda:0' if torch.cuda.is_available() else 'cpu'\n",
        "print(f'DEVICE: {device}')"
      ]
    },
    {
      "cell_type": "code",
      "execution_count": 10,
      "metadata": {
        "id": "88xPiUnm0tAd"
      },
      "outputs": [],
      "source": [
        "import numpy as np\n",
        "\n",
        "#fix seed\n",
        "def same_seeds(seed):\n",
        "    torch.manual_seed(seed)\n",
        "    if torch.cuda.is_available():\n",
        "        torch.cuda.manual_seed(seed)\n",
        "        torch.cuda.manual_seed_all(seed)  \n",
        "    np.random.seed(seed)  \n",
        "    torch.backends.cudnn.benchmark = False\n",
        "    torch.backends.cudnn.deterministic = True"
      ]
    },
    {
      "cell_type": "code",
      "execution_count": 19,
      "metadata": {
        "id": "QTp3ZXg1yO9Y"
      },
      "outputs": [],
      "source": [
        "# fix random seed\n",
        "same_seeds(seed)\n",
        "\n",
        "# create model, define a loss function, and optimizer\n",
        "model = Classifier(input_dim=input_dim, hidden_layers=hidden_layers, hidden_dim=hidden_dim,concat_nframes=concat_nframes).to(device)\n",
        "#model.load_state_dict(torch.load(model_path))\n",
        "criterion = nn.CrossEntropyLoss() \n",
        "optimizer = torch.optim.AdamW(model.parameters(), lr=learning_rate, weight_decay=0.1)"
      ]
    },
    {
      "cell_type": "markdown",
      "source": [
        "## Training"
      ],
      "metadata": {
        "id": "pwWH1KIqzxEr"
      }
    },
    {
      "cell_type": "code",
      "execution_count": null,
      "metadata": {
        "id": "CdMWsBs7zzNs",
        "colab": {
          "base_uri": "https://localhost:8080/"
        },
        "outputId": "300cd8d0-f150-4097-bd8c-1250a398855f"
      },
      "outputs": [
        {
          "output_type": "stream",
          "name": "stderr",
          "text": [
            "100%|██████████| 212/212 [00:32<00:00,  6.61it/s]\n",
            "100%|██████████| 53/53 [00:05<00:00,  9.69it/s]\n"
          ]
        },
        {
          "output_type": "stream",
          "name": "stdout",
          "text": [
            "[001/500] Train Acc: 0.273191 Loss: 2.751590 | Val Acc: 0.378010 loss: 2.298190\n",
            "saving model with acc 0.378\n"
          ]
        },
        {
          "output_type": "stream",
          "name": "stderr",
          "text": [
            "100%|██████████| 212/212 [00:32<00:00,  6.61it/s]\n",
            "100%|██████████| 53/53 [00:05<00:00,  9.29it/s]\n"
          ]
        },
        {
          "output_type": "stream",
          "name": "stdout",
          "text": [
            "[002/500] Train Acc: 0.395738 Loss: 2.132651 | Val Acc: 0.440397 loss: 1.974514\n",
            "saving model with acc 0.440\n"
          ]
        },
        {
          "output_type": "stream",
          "name": "stderr",
          "text": [
            "100%|██████████| 212/212 [00:32<00:00,  6.59it/s]\n",
            "100%|██████████| 53/53 [00:05<00:00,  9.66it/s]\n"
          ]
        },
        {
          "output_type": "stream",
          "name": "stdout",
          "text": [
            "[003/500] Train Acc: 0.432301 Loss: 1.969705 | Val Acc: 0.473147 loss: 1.809352\n",
            "saving model with acc 0.473\n"
          ]
        },
        {
          "output_type": "stream",
          "name": "stderr",
          "text": [
            "100%|██████████| 212/212 [00:32<00:00,  6.61it/s]\n",
            "100%|██████████| 53/53 [00:05<00:00,  9.40it/s]\n"
          ]
        },
        {
          "output_type": "stream",
          "name": "stdout",
          "text": [
            "[004/500] Train Acc: 0.453054 Loss: 1.880836 | Val Acc: 0.491641 loss: 1.727878\n",
            "saving model with acc 0.492\n"
          ]
        },
        {
          "output_type": "stream",
          "name": "stderr",
          "text": [
            "100%|██████████| 212/212 [00:32<00:00,  6.61it/s]\n",
            "100%|██████████| 53/53 [00:05<00:00,  9.59it/s]\n"
          ]
        },
        {
          "output_type": "stream",
          "name": "stdout",
          "text": [
            "[005/500] Train Acc: 0.467589 Loss: 1.821548 | Val Acc: 0.509695 loss: 1.664389\n",
            "saving model with acc 0.510\n"
          ]
        },
        {
          "output_type": "stream",
          "name": "stderr",
          "text": [
            "100%|██████████| 212/212 [00:32<00:00,  6.56it/s]\n",
            "100%|██████████| 53/53 [00:05<00:00,  9.51it/s]\n"
          ]
        },
        {
          "output_type": "stream",
          "name": "stdout",
          "text": [
            "[006/500] Train Acc: 0.480448 Loss: 1.776045 | Val Acc: 0.520144 loss: 1.622110\n",
            "saving model with acc 0.520\n"
          ]
        },
        {
          "output_type": "stream",
          "name": "stderr",
          "text": [
            "100%|██████████| 212/212 [00:32<00:00,  6.59it/s]\n",
            "100%|██████████| 53/53 [00:05<00:00,  9.51it/s]\n"
          ]
        },
        {
          "output_type": "stream",
          "name": "stdout",
          "text": [
            "[007/500] Train Acc: 0.490144 Loss: 1.740655 | Val Acc: 0.528367 loss: 1.588935\n",
            "saving model with acc 0.528\n"
          ]
        },
        {
          "output_type": "stream",
          "name": "stderr",
          "text": [
            "100%|██████████| 212/212 [00:31<00:00,  6.66it/s]\n",
            "100%|██████████| 53/53 [00:05<00:00,  9.73it/s]\n"
          ]
        },
        {
          "output_type": "stream",
          "name": "stdout",
          "text": [
            "[008/500] Train Acc: 0.497250 Loss: 1.712888 | Val Acc: 0.534840 loss: 1.565290\n",
            "saving model with acc 0.535\n"
          ]
        },
        {
          "output_type": "stream",
          "name": "stderr",
          "text": [
            "100%|██████████| 212/212 [00:31<00:00,  6.65it/s]\n",
            "100%|██████████| 53/53 [00:05<00:00,  9.64it/s]\n"
          ]
        },
        {
          "output_type": "stream",
          "name": "stdout",
          "text": [
            "[009/500] Train Acc: 0.504058 Loss: 1.688608 | Val Acc: 0.541831 loss: 1.539042\n",
            "saving model with acc 0.542\n"
          ]
        },
        {
          "output_type": "stream",
          "name": "stderr",
          "text": [
            "100%|██████████| 212/212 [00:32<00:00,  6.62it/s]\n",
            "100%|██████████| 53/53 [00:05<00:00,  9.84it/s]\n"
          ]
        },
        {
          "output_type": "stream",
          "name": "stdout",
          "text": [
            "[010/500] Train Acc: 0.509308 Loss: 1.667894 | Val Acc: 0.547538 loss: 1.519613\n",
            "saving model with acc 0.548\n"
          ]
        },
        {
          "output_type": "stream",
          "name": "stderr",
          "text": [
            "100%|██████████| 212/212 [00:32<00:00,  6.62it/s]\n",
            "100%|██████████| 53/53 [00:05<00:00,  9.79it/s]\n"
          ]
        },
        {
          "output_type": "stream",
          "name": "stdout",
          "text": [
            "[011/500] Train Acc: 0.514241 Loss: 1.649575 | Val Acc: 0.551079 loss: 1.505187\n",
            "saving model with acc 0.551\n"
          ]
        },
        {
          "output_type": "stream",
          "name": "stderr",
          "text": [
            "100%|██████████| 212/212 [00:31<00:00,  6.64it/s]\n",
            "100%|██████████| 53/53 [00:05<00:00,  9.58it/s]\n"
          ]
        },
        {
          "output_type": "stream",
          "name": "stdout",
          "text": [
            "[012/500] Train Acc: 0.518249 Loss: 1.633934 | Val Acc: 0.555162 loss: 1.487754\n",
            "saving model with acc 0.555\n"
          ]
        },
        {
          "output_type": "stream",
          "name": "stderr",
          "text": [
            "100%|██████████| 212/212 [00:32<00:00,  6.59it/s]\n",
            "100%|██████████| 53/53 [00:05<00:00,  9.88it/s]\n"
          ]
        },
        {
          "output_type": "stream",
          "name": "stdout",
          "text": [
            "[013/500] Train Acc: 0.522173 Loss: 1.618960 | Val Acc: 0.558506 loss: 1.475145\n",
            "saving model with acc 0.559\n"
          ]
        },
        {
          "output_type": "stream",
          "name": "stderr",
          "text": [
            "100%|██████████| 212/212 [00:31<00:00,  6.64it/s]\n",
            "100%|██████████| 53/53 [00:05<00:00,  9.47it/s]\n"
          ]
        },
        {
          "output_type": "stream",
          "name": "stdout",
          "text": [
            "[014/500] Train Acc: 0.525753 Loss: 1.605370 | Val Acc: 0.562104 loss: 1.460748\n",
            "saving model with acc 0.562\n"
          ]
        },
        {
          "output_type": "stream",
          "name": "stderr",
          "text": [
            "100%|██████████| 212/212 [00:32<00:00,  6.61it/s]\n",
            "100%|██████████| 53/53 [00:05<00:00,  9.70it/s]\n"
          ]
        },
        {
          "output_type": "stream",
          "name": "stdout",
          "text": [
            "[015/500] Train Acc: 0.529149 Loss: 1.593275 | Val Acc: 0.564863 loss: 1.449355\n",
            "saving model with acc 0.565\n"
          ]
        },
        {
          "output_type": "stream",
          "name": "stderr",
          "text": [
            "100%|██████████| 212/212 [00:32<00:00,  6.60it/s]\n",
            "100%|██████████| 53/53 [00:05<00:00,  9.47it/s]\n"
          ]
        },
        {
          "output_type": "stream",
          "name": "stdout",
          "text": [
            "[016/500] Train Acc: 0.532233 Loss: 1.581492 | Val Acc: 0.566655 loss: 1.442477\n",
            "saving model with acc 0.567\n"
          ]
        },
        {
          "output_type": "stream",
          "name": "stderr",
          "text": [
            "100%|██████████| 212/212 [00:32<00:00,  6.58it/s]\n",
            "100%|██████████| 53/53 [00:05<00:00,  9.77it/s]\n"
          ]
        },
        {
          "output_type": "stream",
          "name": "stdout",
          "text": [
            "[017/500] Train Acc: 0.534723 Loss: 1.571849 | Val Acc: 0.570020 loss: 1.429874\n",
            "saving model with acc 0.570\n"
          ]
        },
        {
          "output_type": "stream",
          "name": "stderr",
          "text": [
            "100%|██████████| 212/212 [00:31<00:00,  6.67it/s]\n",
            "100%|██████████| 53/53 [00:05<00:00, 10.01it/s]\n"
          ]
        },
        {
          "output_type": "stream",
          "name": "stdout",
          "text": [
            "[018/500] Train Acc: 0.537716 Loss: 1.562024 | Val Acc: 0.572593 loss: 1.419120\n",
            "saving model with acc 0.573\n"
          ]
        },
        {
          "output_type": "stream",
          "name": "stderr",
          "text": [
            "100%|██████████| 212/212 [00:31<00:00,  6.71it/s]\n",
            "100%|██████████| 53/53 [00:05<00:00,  9.82it/s]\n"
          ]
        },
        {
          "output_type": "stream",
          "name": "stdout",
          "text": [
            "[019/500] Train Acc: 0.540025 Loss: 1.552912 | Val Acc: 0.574406 loss: 1.412505\n",
            "saving model with acc 0.574\n"
          ]
        },
        {
          "output_type": "stream",
          "name": "stderr",
          "text": [
            "100%|██████████| 212/212 [00:31<00:00,  6.70it/s]\n",
            "100%|██████████| 53/53 [00:05<00:00, 10.01it/s]\n"
          ]
        },
        {
          "output_type": "stream",
          "name": "stdout",
          "text": [
            "[020/500] Train Acc: 0.542396 Loss: 1.543637 | Val Acc: 0.576621 loss: 1.405211\n",
            "saving model with acc 0.577\n"
          ]
        },
        {
          "output_type": "stream",
          "name": "stderr",
          "text": [
            "100%|██████████| 212/212 [00:31<00:00,  6.71it/s]\n",
            "100%|██████████| 53/53 [00:05<00:00,  9.71it/s]\n"
          ]
        },
        {
          "output_type": "stream",
          "name": "stdout",
          "text": [
            "[021/500] Train Acc: 0.544504 Loss: 1.535453 | Val Acc: 0.578688 loss: 1.394911\n",
            "saving model with acc 0.579\n"
          ]
        },
        {
          "output_type": "stream",
          "name": "stderr",
          "text": [
            "100%|██████████| 212/212 [00:31<00:00,  6.70it/s]\n",
            "100%|██████████| 53/53 [00:05<00:00, 10.00it/s]\n"
          ]
        },
        {
          "output_type": "stream",
          "name": "stdout",
          "text": [
            "[022/500] Train Acc: 0.546447 Loss: 1.528321 | Val Acc: 0.580769 loss: 1.389628\n",
            "saving model with acc 0.581\n"
          ]
        },
        {
          "output_type": "stream",
          "name": "stderr",
          "text": [
            "100%|██████████| 212/212 [00:31<00:00,  6.71it/s]\n",
            "100%|██████████| 53/53 [00:05<00:00, 10.08it/s]\n"
          ]
        },
        {
          "output_type": "stream",
          "name": "stdout",
          "text": [
            "[023/500] Train Acc: 0.548477 Loss: 1.520777 | Val Acc: 0.582834 loss: 1.380177\n",
            "saving model with acc 0.583\n"
          ]
        },
        {
          "output_type": "stream",
          "name": "stderr",
          "text": [
            "100%|██████████| 212/212 [00:31<00:00,  6.70it/s]\n",
            "100%|██████████| 53/53 [00:05<00:00,  9.82it/s]\n"
          ]
        },
        {
          "output_type": "stream",
          "name": "stdout",
          "text": [
            "[024/500] Train Acc: 0.550319 Loss: 1.514058 | Val Acc: 0.584122 loss: 1.375145\n",
            "saving model with acc 0.584\n"
          ]
        },
        {
          "output_type": "stream",
          "name": "stderr",
          "text": [
            "100%|██████████| 212/212 [00:31<00:00,  6.69it/s]\n",
            "100%|██████████| 53/53 [00:05<00:00,  9.92it/s]\n"
          ]
        },
        {
          "output_type": "stream",
          "name": "stdout",
          "text": [
            "[025/500] Train Acc: 0.552121 Loss: 1.507210 | Val Acc: 0.585453 loss: 1.370035\n",
            "saving model with acc 0.585\n"
          ]
        },
        {
          "output_type": "stream",
          "name": "stderr",
          "text": [
            "100%|██████████| 212/212 [00:31<00:00,  6.70it/s]\n",
            "100%|██████████| 53/53 [00:05<00:00,  9.80it/s]\n"
          ]
        },
        {
          "output_type": "stream",
          "name": "stdout",
          "text": [
            "[026/500] Train Acc: 0.553469 Loss: 1.502163 | Val Acc: 0.586523 loss: 1.364349\n",
            "saving model with acc 0.587\n"
          ]
        },
        {
          "output_type": "stream",
          "name": "stderr",
          "text": [
            "100%|██████████| 212/212 [00:31<00:00,  6.71it/s]\n",
            "100%|██████████| 53/53 [00:05<00:00,  9.87it/s]\n"
          ]
        },
        {
          "output_type": "stream",
          "name": "stdout",
          "text": [
            "[027/500] Train Acc: 0.554992 Loss: 1.495134 | Val Acc: 0.589102 loss: 1.358254\n",
            "saving model with acc 0.589\n"
          ]
        },
        {
          "output_type": "stream",
          "name": "stderr",
          "text": [
            "100%|██████████| 212/212 [00:31<00:00,  6.71it/s]\n",
            "100%|██████████| 53/53 [00:05<00:00,  9.81it/s]\n"
          ]
        },
        {
          "output_type": "stream",
          "name": "stdout",
          "text": [
            "[028/500] Train Acc: 0.557069 Loss: 1.489361 | Val Acc: 0.589431 loss: 1.354936\n",
            "saving model with acc 0.589\n"
          ]
        },
        {
          "output_type": "stream",
          "name": "stderr",
          "text": [
            "100%|██████████| 212/212 [00:31<00:00,  6.73it/s]\n",
            "100%|██████████| 53/53 [00:05<00:00,  9.92it/s]\n"
          ]
        },
        {
          "output_type": "stream",
          "name": "stdout",
          "text": [
            "[029/500] Train Acc: 0.558469 Loss: 1.483843 | Val Acc: 0.591337 loss: 1.347419\n",
            "saving model with acc 0.591\n"
          ]
        },
        {
          "output_type": "stream",
          "name": "stderr",
          "text": [
            "100%|██████████| 212/212 [00:31<00:00,  6.70it/s]\n",
            "100%|██████████| 53/53 [00:05<00:00,  9.99it/s]\n"
          ]
        },
        {
          "output_type": "stream",
          "name": "stdout",
          "text": [
            "[030/500] Train Acc: 0.559540 Loss: 1.479309 | Val Acc: 0.593310 loss: 1.341027\n",
            "saving model with acc 0.593\n"
          ]
        },
        {
          "output_type": "stream",
          "name": "stderr",
          "text": [
            "100%|██████████| 212/212 [00:31<00:00,  6.70it/s]\n",
            "100%|██████████| 53/53 [00:05<00:00,  9.87it/s]\n"
          ]
        },
        {
          "output_type": "stream",
          "name": "stdout",
          "text": [
            "[031/500] Train Acc: 0.560943 Loss: 1.474017 | Val Acc: 0.593632 loss: 1.338968\n",
            "saving model with acc 0.594\n"
          ]
        },
        {
          "output_type": "stream",
          "name": "stderr",
          "text": [
            "100%|██████████| 212/212 [00:31<00:00,  6.72it/s]\n",
            "100%|██████████| 53/53 [00:05<00:00,  9.86it/s]\n"
          ]
        },
        {
          "output_type": "stream",
          "name": "stdout",
          "text": [
            "[032/500] Train Acc: 0.562126 Loss: 1.468912 | Val Acc: 0.594159 loss: 1.334341\n",
            "saving model with acc 0.594\n"
          ]
        },
        {
          "output_type": "stream",
          "name": "stderr",
          "text": [
            "100%|██████████| 212/212 [00:31<00:00,  6.73it/s]\n",
            "100%|██████████| 53/53 [00:05<00:00,  9.87it/s]\n"
          ]
        },
        {
          "output_type": "stream",
          "name": "stdout",
          "text": [
            "[033/500] Train Acc: 0.563436 Loss: 1.464735 | Val Acc: 0.596508 loss: 1.329757\n",
            "saving model with acc 0.597\n"
          ]
        },
        {
          "output_type": "stream",
          "name": "stderr",
          "text": [
            "100%|██████████| 212/212 [00:31<00:00,  6.71it/s]\n",
            "100%|██████████| 53/53 [00:05<00:00,  9.90it/s]\n"
          ]
        },
        {
          "output_type": "stream",
          "name": "stdout",
          "text": [
            "[034/500] Train Acc: 0.564500 Loss: 1.460230 | Val Acc: 0.597279 loss: 1.326472\n",
            "saving model with acc 0.597\n"
          ]
        },
        {
          "output_type": "stream",
          "name": "stderr",
          "text": [
            "100%|██████████| 212/212 [00:31<00:00,  6.70it/s]\n",
            "100%|██████████| 53/53 [00:05<00:00,  9.94it/s]\n"
          ]
        },
        {
          "output_type": "stream",
          "name": "stdout",
          "text": [
            "[035/500] Train Acc: 0.565800 Loss: 1.456629 | Val Acc: 0.597181 loss: 1.324836\n"
          ]
        },
        {
          "output_type": "stream",
          "name": "stderr",
          "text": [
            "100%|██████████| 212/212 [00:31<00:00,  6.71it/s]\n",
            "100%|██████████| 53/53 [00:05<00:00,  9.87it/s]\n"
          ]
        },
        {
          "output_type": "stream",
          "name": "stdout",
          "text": [
            "[036/500] Train Acc: 0.566777 Loss: 1.451927 | Val Acc: 0.598657 loss: 1.319490\n",
            "saving model with acc 0.599\n"
          ]
        },
        {
          "output_type": "stream",
          "name": "stderr",
          "text": [
            "100%|██████████| 212/212 [00:31<00:00,  6.73it/s]\n",
            "100%|██████████| 53/53 [00:05<00:00,  9.89it/s]\n"
          ]
        },
        {
          "output_type": "stream",
          "name": "stdout",
          "text": [
            "[037/500] Train Acc: 0.568160 Loss: 1.447118 | Val Acc: 0.600307 loss: 1.311950\n",
            "saving model with acc 0.600\n"
          ]
        },
        {
          "output_type": "stream",
          "name": "stderr",
          "text": [
            "100%|██████████| 212/212 [00:31<00:00,  6.72it/s]\n",
            "100%|██████████| 53/53 [00:05<00:00,  9.75it/s]\n"
          ]
        },
        {
          "output_type": "stream",
          "name": "stdout",
          "text": [
            "[038/500] Train Acc: 0.569016 Loss: 1.443951 | Val Acc: 0.601088 loss: 1.311575\n",
            "saving model with acc 0.601\n"
          ]
        },
        {
          "output_type": "stream",
          "name": "stderr",
          "text": [
            "100%|██████████| 212/212 [00:31<00:00,  6.72it/s]\n",
            "100%|██████████| 53/53 [00:05<00:00,  9.96it/s]\n"
          ]
        },
        {
          "output_type": "stream",
          "name": "stdout",
          "text": [
            "[039/500] Train Acc: 0.569601 Loss: 1.440025 | Val Acc: 0.601376 loss: 1.310018\n",
            "saving model with acc 0.601\n"
          ]
        },
        {
          "output_type": "stream",
          "name": "stderr",
          "text": [
            "100%|██████████| 212/212 [00:31<00:00,  6.71it/s]\n",
            "100%|██████████| 53/53 [00:05<00:00,  9.66it/s]\n"
          ]
        },
        {
          "output_type": "stream",
          "name": "stdout",
          "text": [
            "[040/500] Train Acc: 0.570903 Loss: 1.436097 | Val Acc: 0.602473 loss: 1.304682\n",
            "saving model with acc 0.602\n"
          ]
        },
        {
          "output_type": "stream",
          "name": "stderr",
          "text": [
            "100%|██████████| 212/212 [00:31<00:00,  6.73it/s]\n",
            "100%|██████████| 53/53 [00:05<00:00, 10.08it/s]\n"
          ]
        },
        {
          "output_type": "stream",
          "name": "stdout",
          "text": [
            "[041/500] Train Acc: 0.571842 Loss: 1.432421 | Val Acc: 0.603356 loss: 1.302239\n",
            "saving model with acc 0.603\n"
          ]
        },
        {
          "output_type": "stream",
          "name": "stderr",
          "text": [
            "100%|██████████| 212/212 [00:31<00:00,  6.70it/s]\n",
            "100%|██████████| 53/53 [00:05<00:00,  9.85it/s]\n"
          ]
        },
        {
          "output_type": "stream",
          "name": "stdout",
          "text": [
            "[042/500] Train Acc: 0.572381 Loss: 1.430358 | Val Acc: 0.603949 loss: 1.297823\n",
            "saving model with acc 0.604\n"
          ]
        },
        {
          "output_type": "stream",
          "name": "stderr",
          "text": [
            "100%|██████████| 212/212 [00:32<00:00,  6.46it/s]\n",
            "100%|██████████| 53/53 [00:05<00:00,  9.06it/s]\n"
          ]
        },
        {
          "output_type": "stream",
          "name": "stdout",
          "text": [
            "[043/500] Train Acc: 0.573599 Loss: 1.426240 | Val Acc: 0.603911 loss: 1.297792\n"
          ]
        },
        {
          "output_type": "stream",
          "name": "stderr",
          "text": [
            "100%|██████████| 212/212 [00:32<00:00,  6.48it/s]\n",
            "100%|██████████| 53/53 [00:05<00:00,  9.33it/s]\n"
          ]
        },
        {
          "output_type": "stream",
          "name": "stdout",
          "text": [
            "[044/500] Train Acc: 0.574409 Loss: 1.422512 | Val Acc: 0.605506 loss: 1.292536\n",
            "saving model with acc 0.606\n"
          ]
        },
        {
          "output_type": "stream",
          "name": "stderr",
          "text": [
            "100%|██████████| 212/212 [00:33<00:00,  6.39it/s]\n",
            "100%|██████████| 53/53 [00:05<00:00,  8.95it/s]\n"
          ]
        },
        {
          "output_type": "stream",
          "name": "stdout",
          "text": [
            "[045/500] Train Acc: 0.574926 Loss: 1.420539 | Val Acc: 0.605320 loss: 1.292204\n"
          ]
        },
        {
          "output_type": "stream",
          "name": "stderr",
          "text": [
            "100%|██████████| 212/212 [00:31<00:00,  6.64it/s]\n",
            "100%|██████████| 53/53 [00:05<00:00,  9.91it/s]\n"
          ]
        },
        {
          "output_type": "stream",
          "name": "stdout",
          "text": [
            "[046/500] Train Acc: 0.575930 Loss: 1.416715 | Val Acc: 0.607171 loss: 1.286469\n",
            "saving model with acc 0.607\n"
          ]
        },
        {
          "output_type": "stream",
          "name": "stderr",
          "text": [
            "100%|██████████| 212/212 [00:31<00:00,  6.67it/s]\n",
            "100%|██████████| 53/53 [00:05<00:00, 10.01it/s]\n"
          ]
        },
        {
          "output_type": "stream",
          "name": "stdout",
          "text": [
            "[047/500] Train Acc: 0.576536 Loss: 1.414449 | Val Acc: 0.607196 loss: 1.285257\n",
            "saving model with acc 0.607\n"
          ]
        },
        {
          "output_type": "stream",
          "name": "stderr",
          "text": [
            "100%|██████████| 212/212 [00:32<00:00,  6.61it/s]\n",
            "100%|██████████| 53/53 [00:05<00:00,  9.67it/s]\n"
          ]
        },
        {
          "output_type": "stream",
          "name": "stdout",
          "text": [
            "[048/500] Train Acc: 0.577249 Loss: 1.411107 | Val Acc: 0.607886 loss: 1.283597\n",
            "saving model with acc 0.608\n"
          ]
        },
        {
          "output_type": "stream",
          "name": "stderr",
          "text": [
            "100%|██████████| 212/212 [00:31<00:00,  6.70it/s]\n",
            "100%|██████████| 53/53 [00:05<00:00,  9.85it/s]\n"
          ]
        },
        {
          "output_type": "stream",
          "name": "stdout",
          "text": [
            "[049/500] Train Acc: 0.577809 Loss: 1.408618 | Val Acc: 0.609148 loss: 1.279781\n",
            "saving model with acc 0.609\n"
          ]
        },
        {
          "output_type": "stream",
          "name": "stderr",
          "text": [
            "100%|██████████| 212/212 [00:31<00:00,  6.68it/s]\n",
            "100%|██████████| 53/53 [00:05<00:00,  9.71it/s]\n"
          ]
        },
        {
          "output_type": "stream",
          "name": "stdout",
          "text": [
            "[050/500] Train Acc: 0.578313 Loss: 1.406249 | Val Acc: 0.610072 loss: 1.275283\n",
            "saving model with acc 0.610\n"
          ]
        },
        {
          "output_type": "stream",
          "name": "stderr",
          "text": [
            "100%|██████████| 212/212 [00:31<00:00,  6.69it/s]\n",
            "100%|██████████| 53/53 [00:05<00:00, 10.04it/s]\n"
          ]
        },
        {
          "output_type": "stream",
          "name": "stdout",
          "text": [
            "[051/500] Train Acc: 0.579283 Loss: 1.403071 | Val Acc: 0.610322 loss: 1.275001\n",
            "saving model with acc 0.610\n"
          ]
        },
        {
          "output_type": "stream",
          "name": "stderr",
          "text": [
            "100%|██████████| 212/212 [00:31<00:00,  6.66it/s]\n",
            "100%|██████████| 53/53 [00:05<00:00,  9.73it/s]\n"
          ]
        },
        {
          "output_type": "stream",
          "name": "stdout",
          "text": [
            "[052/500] Train Acc: 0.579788 Loss: 1.400940 | Val Acc: 0.610135 loss: 1.273717\n"
          ]
        },
        {
          "output_type": "stream",
          "name": "stderr",
          "text": [
            "100%|██████████| 212/212 [00:31<00:00,  6.71it/s]\n",
            "100%|██████████| 53/53 [00:05<00:00,  9.75it/s]\n"
          ]
        },
        {
          "output_type": "stream",
          "name": "stdout",
          "text": [
            "[053/500] Train Acc: 0.581012 Loss: 1.397036 | Val Acc: 0.611402 loss: 1.270142\n",
            "saving model with acc 0.611\n"
          ]
        },
        {
          "output_type": "stream",
          "name": "stderr",
          "text": [
            "100%|██████████| 212/212 [00:31<00:00,  6.70it/s]\n",
            "100%|██████████| 53/53 [00:05<00:00,  9.69it/s]\n"
          ]
        },
        {
          "output_type": "stream",
          "name": "stdout",
          "text": [
            "[054/500] Train Acc: 0.581545 Loss: 1.395554 | Val Acc: 0.612117 loss: 1.268740\n",
            "saving model with acc 0.612\n"
          ]
        },
        {
          "output_type": "stream",
          "name": "stderr",
          "text": [
            "100%|██████████| 212/212 [00:31<00:00,  6.71it/s]\n",
            "100%|██████████| 53/53 [00:05<00:00,  9.79it/s]\n"
          ]
        },
        {
          "output_type": "stream",
          "name": "stdout",
          "text": [
            "[055/500] Train Acc: 0.581957 Loss: 1.393239 | Val Acc: 0.611836 loss: 1.268643\n"
          ]
        },
        {
          "output_type": "stream",
          "name": "stderr",
          "text": [
            "100%|██████████| 212/212 [00:31<00:00,  6.72it/s]\n",
            "100%|██████████| 53/53 [00:05<00:00,  9.78it/s]\n"
          ]
        },
        {
          "output_type": "stream",
          "name": "stdout",
          "text": [
            "[056/500] Train Acc: 0.582659 Loss: 1.391006 | Val Acc: 0.612175 loss: 1.266590\n",
            "saving model with acc 0.612\n"
          ]
        },
        {
          "output_type": "stream",
          "name": "stderr",
          "text": [
            "100%|██████████| 212/212 [00:31<00:00,  6.72it/s]\n",
            "100%|██████████| 53/53 [00:05<00:00,  9.70it/s]\n"
          ]
        },
        {
          "output_type": "stream",
          "name": "stdout",
          "text": [
            "[057/500] Train Acc: 0.583502 Loss: 1.389086 | Val Acc: 0.613557 loss: 1.263768\n",
            "saving model with acc 0.614\n"
          ]
        },
        {
          "output_type": "stream",
          "name": "stderr",
          "text": [
            "100%|██████████| 212/212 [00:31<00:00,  6.70it/s]\n",
            "100%|██████████| 53/53 [00:05<00:00,  9.79it/s]\n"
          ]
        },
        {
          "output_type": "stream",
          "name": "stdout",
          "text": [
            "[058/500] Train Acc: 0.583511 Loss: 1.386473 | Val Acc: 0.613903 loss: 1.260588\n",
            "saving model with acc 0.614\n"
          ]
        },
        {
          "output_type": "stream",
          "name": "stderr",
          "text": [
            "100%|██████████| 212/212 [00:31<00:00,  6.68it/s]\n",
            "100%|██████████| 53/53 [00:05<00:00, 10.05it/s]\n"
          ]
        },
        {
          "output_type": "stream",
          "name": "stdout",
          "text": [
            "[059/500] Train Acc: 0.584576 Loss: 1.383336 | Val Acc: 0.614233 loss: 1.259686\n",
            "saving model with acc 0.614\n"
          ]
        },
        {
          "output_type": "stream",
          "name": "stderr",
          "text": [
            "100%|██████████| 212/212 [00:32<00:00,  6.59it/s]\n",
            "100%|██████████| 53/53 [00:05<00:00,  9.74it/s]\n"
          ]
        },
        {
          "output_type": "stream",
          "name": "stdout",
          "text": [
            "[060/500] Train Acc: 0.585098 Loss: 1.381935 | Val Acc: 0.615106 loss: 1.258204\n",
            "saving model with acc 0.615\n"
          ]
        },
        {
          "output_type": "stream",
          "name": "stderr",
          "text": [
            "100%|██████████| 212/212 [00:31<00:00,  6.65it/s]\n",
            "100%|██████████| 53/53 [00:05<00:00,  9.63it/s]\n"
          ]
        },
        {
          "output_type": "stream",
          "name": "stdout",
          "text": [
            "[061/500] Train Acc: 0.585730 Loss: 1.379979 | Val Acc: 0.614989 loss: 1.256604\n"
          ]
        },
        {
          "output_type": "stream",
          "name": "stderr",
          "text": [
            "100%|██████████| 212/212 [00:31<00:00,  6.64it/s]\n",
            "100%|██████████| 53/53 [00:05<00:00,  9.50it/s]\n"
          ]
        },
        {
          "output_type": "stream",
          "name": "stdout",
          "text": [
            "[062/500] Train Acc: 0.586088 Loss: 1.377634 | Val Acc: 0.615135 loss: 1.255245\n",
            "saving model with acc 0.615\n"
          ]
        },
        {
          "output_type": "stream",
          "name": "stderr",
          "text": [
            "100%|██████████| 212/212 [00:32<00:00,  6.61it/s]\n",
            "100%|██████████| 53/53 [00:05<00:00,  9.91it/s]\n"
          ]
        },
        {
          "output_type": "stream",
          "name": "stdout",
          "text": [
            "[063/500] Train Acc: 0.586522 Loss: 1.376235 | Val Acc: 0.615787 loss: 1.253550\n",
            "saving model with acc 0.616\n"
          ]
        },
        {
          "output_type": "stream",
          "name": "stderr",
          "text": [
            "100%|██████████| 212/212 [00:32<00:00,  6.56it/s]\n",
            "100%|██████████| 53/53 [00:05<00:00,  9.82it/s]\n"
          ]
        },
        {
          "output_type": "stream",
          "name": "stdout",
          "text": [
            "[064/500] Train Acc: 0.586839 Loss: 1.374235 | Val Acc: 0.616472 loss: 1.252033\n",
            "saving model with acc 0.616\n"
          ]
        },
        {
          "output_type": "stream",
          "name": "stderr",
          "text": [
            "100%|██████████| 212/212 [00:31<00:00,  6.63it/s]\n",
            "100%|██████████| 53/53 [00:05<00:00,  9.63it/s]\n"
          ]
        },
        {
          "output_type": "stream",
          "name": "stdout",
          "text": [
            "[065/500] Train Acc: 0.587386 Loss: 1.371645 | Val Acc: 0.616120 loss: 1.251364\n"
          ]
        },
        {
          "output_type": "stream",
          "name": "stderr",
          "text": [
            "100%|██████████| 212/212 [00:32<00:00,  6.55it/s]\n",
            "100%|██████████| 53/53 [00:05<00:00,  9.81it/s]\n"
          ]
        },
        {
          "output_type": "stream",
          "name": "stdout",
          "text": [
            "[066/500] Train Acc: 0.588196 Loss: 1.370181 | Val Acc: 0.617208 loss: 1.248198\n",
            "saving model with acc 0.617\n"
          ]
        },
        {
          "output_type": "stream",
          "name": "stderr",
          "text": [
            "100%|██████████| 212/212 [00:32<00:00,  6.58it/s]\n",
            "100%|██████████| 53/53 [00:05<00:00,  9.55it/s]\n"
          ]
        },
        {
          "output_type": "stream",
          "name": "stdout",
          "text": [
            "[067/500] Train Acc: 0.588429 Loss: 1.367587 | Val Acc: 0.616952 loss: 1.249179\n"
          ]
        },
        {
          "output_type": "stream",
          "name": "stderr",
          "text": [
            "100%|██████████| 212/212 [00:32<00:00,  6.56it/s]\n",
            "100%|██████████| 53/53 [00:05<00:00,  9.59it/s]\n"
          ]
        },
        {
          "output_type": "stream",
          "name": "stdout",
          "text": [
            "[068/500] Train Acc: 0.588659 Loss: 1.367256 | Val Acc: 0.617755 loss: 1.247453\n",
            "saving model with acc 0.618\n"
          ]
        },
        {
          "output_type": "stream",
          "name": "stderr",
          "text": [
            "100%|██████████| 212/212 [00:32<00:00,  6.59it/s]\n",
            "100%|██████████| 53/53 [00:05<00:00,  9.53it/s]\n"
          ]
        },
        {
          "output_type": "stream",
          "name": "stdout",
          "text": [
            "[069/500] Train Acc: 0.589311 Loss: 1.364531 | Val Acc: 0.618214 loss: 1.244706\n",
            "saving model with acc 0.618\n"
          ]
        },
        {
          "output_type": "stream",
          "name": "stderr",
          "text": [
            "100%|██████████| 212/212 [00:32<00:00,  6.61it/s]\n",
            "100%|██████████| 53/53 [00:05<00:00,  9.41it/s]\n"
          ]
        },
        {
          "output_type": "stream",
          "name": "stdout",
          "text": [
            "[070/500] Train Acc: 0.589937 Loss: 1.362828 | Val Acc: 0.618195 loss: 1.243699\n"
          ]
        },
        {
          "output_type": "stream",
          "name": "stderr",
          "text": [
            "100%|██████████| 212/212 [00:32<00:00,  6.59it/s]\n",
            "100%|██████████| 53/53 [00:05<00:00,  9.84it/s]\n"
          ]
        },
        {
          "output_type": "stream",
          "name": "stdout",
          "text": [
            "[071/500] Train Acc: 0.590369 Loss: 1.361465 | Val Acc: 0.618595 loss: 1.241987\n",
            "saving model with acc 0.619\n"
          ]
        },
        {
          "output_type": "stream",
          "name": "stderr",
          "text": [
            "100%|██████████| 212/212 [00:32<00:00,  6.61it/s]\n",
            "100%|██████████| 53/53 [00:05<00:00,  9.53it/s]\n"
          ]
        },
        {
          "output_type": "stream",
          "name": "stdout",
          "text": [
            "[072/500] Train Acc: 0.590696 Loss: 1.360516 | Val Acc: 0.618843 loss: 1.242023\n",
            "saving model with acc 0.619\n"
          ]
        },
        {
          "output_type": "stream",
          "name": "stderr",
          "text": [
            "100%|██████████| 212/212 [00:32<00:00,  6.58it/s]\n",
            "100%|██████████| 53/53 [00:05<00:00,  9.17it/s]\n"
          ]
        },
        {
          "output_type": "stream",
          "name": "stdout",
          "text": [
            "[073/500] Train Acc: 0.591005 Loss: 1.358985 | Val Acc: 0.619364 loss: 1.240495\n",
            "saving model with acc 0.619\n"
          ]
        },
        {
          "output_type": "stream",
          "name": "stderr",
          "text": [
            "100%|██████████| 212/212 [00:32<00:00,  6.54it/s]\n",
            "100%|██████████| 53/53 [00:05<00:00,  9.46it/s]\n"
          ]
        },
        {
          "output_type": "stream",
          "name": "stdout",
          "text": [
            "[074/500] Train Acc: 0.591630 Loss: 1.356327 | Val Acc: 0.619129 loss: 1.238593\n"
          ]
        },
        {
          "output_type": "stream",
          "name": "stderr",
          "text": [
            "100%|██████████| 212/212 [00:32<00:00,  6.61it/s]\n",
            "100%|██████████| 53/53 [00:05<00:00,  9.60it/s]\n"
          ]
        },
        {
          "output_type": "stream",
          "name": "stdout",
          "text": [
            "[075/500] Train Acc: 0.592512 Loss: 1.354356 | Val Acc: 0.620364 loss: 1.237844\n",
            "saving model with acc 0.620\n"
          ]
        },
        {
          "output_type": "stream",
          "name": "stderr",
          "text": [
            "100%|██████████| 212/212 [00:32<00:00,  6.59it/s]\n",
            "100%|██████████| 53/53 [00:05<00:00,  9.70it/s]\n"
          ]
        },
        {
          "output_type": "stream",
          "name": "stdout",
          "text": [
            "[076/500] Train Acc: 0.592508 Loss: 1.353627 | Val Acc: 0.620025 loss: 1.236802\n"
          ]
        },
        {
          "output_type": "stream",
          "name": "stderr",
          "text": [
            "100%|██████████| 212/212 [00:31<00:00,  6.63it/s]\n",
            "100%|██████████| 53/53 [00:05<00:00,  9.59it/s]\n"
          ]
        },
        {
          "output_type": "stream",
          "name": "stdout",
          "text": [
            "[077/500] Train Acc: 0.592824 Loss: 1.351813 | Val Acc: 0.620806 loss: 1.234867\n",
            "saving model with acc 0.621\n"
          ]
        },
        {
          "output_type": "stream",
          "name": "stderr",
          "text": [
            "100%|██████████| 212/212 [00:32<00:00,  6.60it/s]\n",
            "100%|██████████| 53/53 [00:05<00:00,  9.67it/s]\n"
          ]
        },
        {
          "output_type": "stream",
          "name": "stdout",
          "text": [
            "[078/500] Train Acc: 0.593568 Loss: 1.351163 | Val Acc: 0.620571 loss: 1.233785\n"
          ]
        },
        {
          "output_type": "stream",
          "name": "stderr",
          "text": [
            "100%|██████████| 212/212 [00:32<00:00,  6.55it/s]\n",
            "100%|██████████| 53/53 [00:05<00:00,  9.64it/s]\n"
          ]
        },
        {
          "output_type": "stream",
          "name": "stdout",
          "text": [
            "[079/500] Train Acc: 0.593342 Loss: 1.350436 | Val Acc: 0.621156 loss: 1.233534\n",
            "saving model with acc 0.621\n"
          ]
        },
        {
          "output_type": "stream",
          "name": "stderr",
          "text": [
            "100%|██████████| 212/212 [00:32<00:00,  6.61it/s]\n",
            "100%|██████████| 53/53 [00:05<00:00,  9.86it/s]\n"
          ]
        },
        {
          "output_type": "stream",
          "name": "stdout",
          "text": [
            "[080/500] Train Acc: 0.593611 Loss: 1.348671 | Val Acc: 0.622028 loss: 1.231587\n",
            "saving model with acc 0.622\n"
          ]
        },
        {
          "output_type": "stream",
          "name": "stderr",
          "text": [
            "100%|██████████| 212/212 [00:32<00:00,  6.62it/s]\n",
            "100%|██████████| 53/53 [00:05<00:00,  9.68it/s]\n"
          ]
        },
        {
          "output_type": "stream",
          "name": "stdout",
          "text": [
            "[081/500] Train Acc: 0.594113 Loss: 1.347853 | Val Acc: 0.621683 loss: 1.230954\n"
          ]
        },
        {
          "output_type": "stream",
          "name": "stderr",
          "text": [
            "100%|██████████| 212/212 [00:31<00:00,  6.64it/s]\n",
            "100%|██████████| 53/53 [00:05<00:00,  9.67it/s]\n"
          ]
        },
        {
          "output_type": "stream",
          "name": "stdout",
          "text": [
            "[082/500] Train Acc: 0.594811 Loss: 1.345722 | Val Acc: 0.622257 loss: 1.230840\n",
            "saving model with acc 0.622\n"
          ]
        },
        {
          "output_type": "stream",
          "name": "stderr",
          "text": [
            "100%|██████████| 212/212 [00:31<00:00,  6.63it/s]\n",
            "100%|██████████| 53/53 [00:05<00:00,  9.51it/s]\n"
          ]
        },
        {
          "output_type": "stream",
          "name": "stdout",
          "text": [
            "[083/500] Train Acc: 0.594727 Loss: 1.344055 | Val Acc: 0.622994 loss: 1.229324\n",
            "saving model with acc 0.623\n"
          ]
        },
        {
          "output_type": "stream",
          "name": "stderr",
          "text": [
            "100%|██████████| 212/212 [00:32<00:00,  6.58it/s]\n",
            "100%|██████████| 53/53 [00:05<00:00,  9.60it/s]\n"
          ]
        },
        {
          "output_type": "stream",
          "name": "stdout",
          "text": [
            "[084/500] Train Acc: 0.594872 Loss: 1.343643 | Val Acc: 0.623299 loss: 1.227992\n",
            "saving model with acc 0.623\n"
          ]
        },
        {
          "output_type": "stream",
          "name": "stderr",
          "text": [
            "100%|██████████| 212/212 [00:32<00:00,  6.60it/s]\n",
            "100%|██████████| 53/53 [00:05<00:00,  9.85it/s]\n"
          ]
        },
        {
          "output_type": "stream",
          "name": "stdout",
          "text": [
            "[085/500] Train Acc: 0.595275 Loss: 1.341812 | Val Acc: 0.622992 loss: 1.227865\n"
          ]
        },
        {
          "output_type": "stream",
          "name": "stderr",
          "text": [
            "100%|██████████| 212/212 [00:31<00:00,  6.64it/s]\n",
            "100%|██████████| 53/53 [00:05<00:00,  9.63it/s]\n"
          ]
        },
        {
          "output_type": "stream",
          "name": "stdout",
          "text": [
            "[086/500] Train Acc: 0.596040 Loss: 1.340253 | Val Acc: 0.623663 loss: 1.226492\n",
            "saving model with acc 0.624\n"
          ]
        },
        {
          "output_type": "stream",
          "name": "stderr",
          "text": [
            "100%|██████████| 212/212 [00:31<00:00,  6.63it/s]\n",
            "100%|██████████| 53/53 [00:05<00:00,  9.66it/s]\n"
          ]
        },
        {
          "output_type": "stream",
          "name": "stdout",
          "text": [
            "[087/500] Train Acc: 0.596003 Loss: 1.339963 | Val Acc: 0.623074 loss: 1.225619\n"
          ]
        },
        {
          "output_type": "stream",
          "name": "stderr",
          "text": [
            "100%|██████████| 212/212 [00:31<00:00,  6.63it/s]\n",
            "100%|██████████| 53/53 [00:05<00:00,  9.78it/s]\n"
          ]
        },
        {
          "output_type": "stream",
          "name": "stdout",
          "text": [
            "[088/500] Train Acc: 0.596223 Loss: 1.337955 | Val Acc: 0.624006 loss: 1.223813\n",
            "saving model with acc 0.624\n"
          ]
        },
        {
          "output_type": "stream",
          "name": "stderr",
          "text": [
            "100%|██████████| 212/212 [00:31<00:00,  6.67it/s]\n",
            "100%|██████████| 53/53 [00:05<00:00,  9.67it/s]\n"
          ]
        },
        {
          "output_type": "stream",
          "name": "stdout",
          "text": [
            "[089/500] Train Acc: 0.596757 Loss: 1.337321 | Val Acc: 0.624174 loss: 1.223784\n",
            "saving model with acc 0.624\n"
          ]
        },
        {
          "output_type": "stream",
          "name": "stderr",
          "text": [
            "100%|██████████| 212/212 [00:31<00:00,  6.63it/s]\n",
            "100%|██████████| 53/53 [00:05<00:00,  9.80it/s]\n"
          ]
        },
        {
          "output_type": "stream",
          "name": "stdout",
          "text": [
            "[090/500] Train Acc: 0.596711 Loss: 1.336391 | Val Acc: 0.623697 loss: 1.223290\n"
          ]
        },
        {
          "output_type": "stream",
          "name": "stderr",
          "text": [
            "100%|██████████| 212/212 [00:31<00:00,  6.67it/s]\n",
            "100%|██████████| 53/53 [00:05<00:00,  9.57it/s]\n"
          ]
        },
        {
          "output_type": "stream",
          "name": "stdout",
          "text": [
            "[091/500] Train Acc: 0.597375 Loss: 1.335020 | Val Acc: 0.624508 loss: 1.220467\n",
            "saving model with acc 0.625\n"
          ]
        },
        {
          "output_type": "stream",
          "name": "stderr",
          "text": [
            "100%|██████████| 212/212 [00:31<00:00,  6.65it/s]\n",
            "100%|██████████| 53/53 [00:05<00:00,  9.86it/s]\n"
          ]
        },
        {
          "output_type": "stream",
          "name": "stdout",
          "text": [
            "[092/500] Train Acc: 0.597235 Loss: 1.334450 | Val Acc: 0.624813 loss: 1.219704\n",
            "saving model with acc 0.625\n"
          ]
        },
        {
          "output_type": "stream",
          "name": "stderr",
          "text": [
            "100%|██████████| 212/212 [00:32<00:00,  6.57it/s]\n",
            "100%|██████████| 53/53 [00:05<00:00,  9.78it/s]\n"
          ]
        },
        {
          "output_type": "stream",
          "name": "stdout",
          "text": [
            "[093/500] Train Acc: 0.597830 Loss: 1.332444 | Val Acc: 0.625071 loss: 1.220753\n",
            "saving model with acc 0.625\n"
          ]
        },
        {
          "output_type": "stream",
          "name": "stderr",
          "text": [
            "100%|██████████| 212/212 [00:31<00:00,  6.65it/s]\n",
            "100%|██████████| 53/53 [00:05<00:00,  9.71it/s]\n"
          ]
        },
        {
          "output_type": "stream",
          "name": "stdout",
          "text": [
            "[094/500] Train Acc: 0.598068 Loss: 1.331413 | Val Acc: 0.625088 loss: 1.219792\n",
            "saving model with acc 0.625\n"
          ]
        },
        {
          "output_type": "stream",
          "name": "stderr",
          "text": [
            "100%|██████████| 212/212 [00:31<00:00,  6.63it/s]\n",
            "100%|██████████| 53/53 [00:05<00:00,  9.76it/s]\n"
          ]
        },
        {
          "output_type": "stream",
          "name": "stdout",
          "text": [
            "[095/500] Train Acc: 0.598730 Loss: 1.330522 | Val Acc: 0.625154 loss: 1.218711\n",
            "saving model with acc 0.625\n"
          ]
        },
        {
          "output_type": "stream",
          "name": "stderr",
          "text": [
            "100%|██████████| 212/212 [00:31<00:00,  6.64it/s]\n",
            "100%|██████████| 53/53 [00:05<00:00,  9.62it/s]\n"
          ]
        },
        {
          "output_type": "stream",
          "name": "stdout",
          "text": [
            "[096/500] Train Acc: 0.598512 Loss: 1.329765 | Val Acc: 0.625224 loss: 1.219074\n",
            "saving model with acc 0.625\n"
          ]
        },
        {
          "output_type": "stream",
          "name": "stderr",
          "text": [
            "100%|██████████| 212/212 [00:31<00:00,  6.64it/s]\n",
            "100%|██████████| 53/53 [00:05<00:00,  9.87it/s]\n"
          ]
        },
        {
          "output_type": "stream",
          "name": "stdout",
          "text": [
            "[097/500] Train Acc: 0.598760 Loss: 1.329133 | Val Acc: 0.625486 loss: 1.218300\n",
            "saving model with acc 0.625\n"
          ]
        },
        {
          "output_type": "stream",
          "name": "stderr",
          "text": [
            "100%|██████████| 212/212 [00:32<00:00,  6.61it/s]\n",
            "100%|██████████| 53/53 [00:05<00:00,  9.89it/s]\n"
          ]
        },
        {
          "output_type": "stream",
          "name": "stdout",
          "text": [
            "[098/500] Train Acc: 0.598865 Loss: 1.329082 | Val Acc: 0.625387 loss: 1.218499\n"
          ]
        },
        {
          "output_type": "stream",
          "name": "stderr",
          "text": [
            "100%|██████████| 212/212 [00:31<00:00,  6.68it/s]\n",
            "100%|██████████| 53/53 [00:05<00:00,  9.65it/s]\n"
          ]
        },
        {
          "output_type": "stream",
          "name": "stdout",
          "text": [
            "[099/500] Train Acc: 0.599577 Loss: 1.326908 | Val Acc: 0.626526 loss: 1.216463\n",
            "saving model with acc 0.627\n"
          ]
        },
        {
          "output_type": "stream",
          "name": "stderr",
          "text": [
            "100%|██████████| 212/212 [00:31<00:00,  6.68it/s]\n",
            "100%|██████████| 53/53 [00:05<00:00,  9.87it/s]\n"
          ]
        },
        {
          "output_type": "stream",
          "name": "stdout",
          "text": [
            "[100/500] Train Acc: 0.599593 Loss: 1.325938 | Val Acc: 0.626249 loss: 1.215886\n"
          ]
        },
        {
          "output_type": "stream",
          "name": "stderr",
          "text": [
            "100%|██████████| 212/212 [00:31<00:00,  6.68it/s]\n",
            "100%|██████████| 53/53 [00:05<00:00,  9.69it/s]\n"
          ]
        },
        {
          "output_type": "stream",
          "name": "stdout",
          "text": [
            "[101/500] Train Acc: 0.599714 Loss: 1.325578 | Val Acc: 0.626391 loss: 1.215506\n"
          ]
        },
        {
          "output_type": "stream",
          "name": "stderr",
          "text": [
            "100%|██████████| 212/212 [00:31<00:00,  6.63it/s]\n",
            "100%|██████████| 53/53 [00:05<00:00,  9.81it/s]\n"
          ]
        },
        {
          "output_type": "stream",
          "name": "stdout",
          "text": [
            "[102/500] Train Acc: 0.600056 Loss: 1.323368 | Val Acc: 0.626370 loss: 1.214313\n"
          ]
        },
        {
          "output_type": "stream",
          "name": "stderr",
          "text": [
            "100%|██████████| 212/212 [00:31<00:00,  6.69it/s]\n",
            "100%|██████████| 53/53 [00:05<00:00,  9.81it/s]\n"
          ]
        },
        {
          "output_type": "stream",
          "name": "stdout",
          "text": [
            "[103/500] Train Acc: 0.600280 Loss: 1.324228 | Val Acc: 0.626601 loss: 1.213113\n",
            "saving model with acc 0.627\n"
          ]
        },
        {
          "output_type": "stream",
          "name": "stderr",
          "text": [
            "100%|██████████| 212/212 [00:31<00:00,  6.72it/s]\n",
            "100%|██████████| 53/53 [00:05<00:00,  9.71it/s]\n"
          ]
        },
        {
          "output_type": "stream",
          "name": "stdout",
          "text": [
            "[104/500] Train Acc: 0.600622 Loss: 1.322008 | Val Acc: 0.625535 loss: 1.215224\n"
          ]
        },
        {
          "output_type": "stream",
          "name": "stderr",
          "text": [
            "100%|██████████| 212/212 [00:31<00:00,  6.71it/s]\n",
            "100%|██████████| 53/53 [00:05<00:00,  9.82it/s]\n"
          ]
        },
        {
          "output_type": "stream",
          "name": "stdout",
          "text": [
            "[105/500] Train Acc: 0.600589 Loss: 1.321413 | Val Acc: 0.626586 loss: 1.213260\n"
          ]
        },
        {
          "output_type": "stream",
          "name": "stderr",
          "text": [
            "100%|██████████| 212/212 [00:32<00:00,  6.61it/s]\n",
            "100%|██████████| 53/53 [00:05<00:00,  9.74it/s]\n"
          ]
        },
        {
          "output_type": "stream",
          "name": "stdout",
          "text": [
            "[106/500] Train Acc: 0.601005 Loss: 1.320781 | Val Acc: 0.627149 loss: 1.211930\n",
            "saving model with acc 0.627\n"
          ]
        },
        {
          "output_type": "stream",
          "name": "stderr",
          "text": [
            "100%|██████████| 212/212 [00:31<00:00,  6.72it/s]\n",
            "100%|██████████| 53/53 [00:05<00:00,  9.93it/s]\n"
          ]
        },
        {
          "output_type": "stream",
          "name": "stdout",
          "text": [
            "[107/500] Train Acc: 0.601090 Loss: 1.319793 | Val Acc: 0.626537 loss: 1.212349\n"
          ]
        },
        {
          "output_type": "stream",
          "name": "stderr",
          "text": [
            "100%|██████████| 212/212 [00:31<00:00,  6.70it/s]\n",
            "100%|██████████| 53/53 [00:05<00:00,  9.72it/s]\n"
          ]
        },
        {
          "output_type": "stream",
          "name": "stdout",
          "text": [
            "[108/500] Train Acc: 0.601151 Loss: 1.319539 | Val Acc: 0.627376 loss: 1.210796\n",
            "saving model with acc 0.627\n"
          ]
        },
        {
          "output_type": "stream",
          "name": "stderr",
          "text": [
            "100%|██████████| 212/212 [00:31<00:00,  6.72it/s]\n",
            "100%|██████████| 53/53 [00:05<00:00,  9.76it/s]\n"
          ]
        },
        {
          "output_type": "stream",
          "name": "stdout",
          "text": [
            "[109/500] Train Acc: 0.601628 Loss: 1.318400 | Val Acc: 0.627320 loss: 1.210944\n"
          ]
        },
        {
          "output_type": "stream",
          "name": "stderr",
          "text": [
            "100%|██████████| 212/212 [00:31<00:00,  6.70it/s]\n",
            "100%|██████████| 53/53 [00:05<00:00,  9.62it/s]\n"
          ]
        },
        {
          "output_type": "stream",
          "name": "stdout",
          "text": [
            "[110/500] Train Acc: 0.601380 Loss: 1.318329 | Val Acc: 0.627306 loss: 1.210914\n"
          ]
        },
        {
          "output_type": "stream",
          "name": "stderr",
          "text": [
            "100%|██████████| 212/212 [00:31<00:00,  6.73it/s]\n",
            "100%|██████████| 53/53 [00:05<00:00,  9.84it/s]\n"
          ]
        },
        {
          "output_type": "stream",
          "name": "stdout",
          "text": [
            "[111/500] Train Acc: 0.601588 Loss: 1.317268 | Val Acc: 0.628237 loss: 1.209037\n",
            "saving model with acc 0.628\n"
          ]
        },
        {
          "output_type": "stream",
          "name": "stderr",
          "text": [
            "100%|██████████| 212/212 [00:31<00:00,  6.72it/s]\n",
            "100%|██████████| 53/53 [00:05<00:00,  9.95it/s]\n"
          ]
        },
        {
          "output_type": "stream",
          "name": "stdout",
          "text": [
            "[112/500] Train Acc: 0.601563 Loss: 1.317039 | Val Acc: 0.627653 loss: 1.209594\n"
          ]
        },
        {
          "output_type": "stream",
          "name": "stderr",
          "text": [
            "100%|██████████| 212/212 [00:31<00:00,  6.73it/s]\n",
            "100%|██████████| 53/53 [00:05<00:00,  9.78it/s]\n"
          ]
        },
        {
          "output_type": "stream",
          "name": "stdout",
          "text": [
            "[113/500] Train Acc: 0.602182 Loss: 1.316370 | Val Acc: 0.628199 loss: 1.207279\n"
          ]
        },
        {
          "output_type": "stream",
          "name": "stderr",
          "text": [
            "100%|██████████| 212/212 [00:31<00:00,  6.70it/s]\n",
            "100%|██████████| 53/53 [00:05<00:00,  9.71it/s]\n"
          ]
        },
        {
          "output_type": "stream",
          "name": "stdout",
          "text": [
            "[114/500] Train Acc: 0.602352 Loss: 1.315807 | Val Acc: 0.627454 loss: 1.209327\n"
          ]
        },
        {
          "output_type": "stream",
          "name": "stderr",
          "text": [
            "100%|██████████| 212/212 [00:31<00:00,  6.65it/s]\n",
            "100%|██████████| 53/53 [00:05<00:00,  9.40it/s]\n"
          ]
        },
        {
          "output_type": "stream",
          "name": "stdout",
          "text": [
            "[115/500] Train Acc: 0.602425 Loss: 1.313762 | Val Acc: 0.628517 loss: 1.206982\n",
            "saving model with acc 0.629\n"
          ]
        },
        {
          "output_type": "stream",
          "name": "stderr",
          "text": [
            "100%|██████████| 212/212 [00:31<00:00,  6.64it/s]\n",
            "100%|██████████| 53/53 [00:05<00:00,  9.15it/s]\n"
          ]
        },
        {
          "output_type": "stream",
          "name": "stdout",
          "text": [
            "[116/500] Train Acc: 0.602641 Loss: 1.314395 | Val Acc: 0.628670 loss: 1.205579\n",
            "saving model with acc 0.629\n"
          ]
        },
        {
          "output_type": "stream",
          "name": "stderr",
          "text": [
            "100%|██████████| 212/212 [00:32<00:00,  6.44it/s]\n",
            "100%|██████████| 53/53 [00:05<00:00,  9.81it/s]\n"
          ]
        },
        {
          "output_type": "stream",
          "name": "stdout",
          "text": [
            "[117/500] Train Acc: 0.602975 Loss: 1.313128 | Val Acc: 0.628828 loss: 1.207790\n",
            "saving model with acc 0.629\n"
          ]
        },
        {
          "output_type": "stream",
          "name": "stderr",
          "text": [
            "100%|██████████| 212/212 [00:31<00:00,  6.67it/s]\n",
            "100%|██████████| 53/53 [00:05<00:00,  9.59it/s]\n"
          ]
        },
        {
          "output_type": "stream",
          "name": "stdout",
          "text": [
            "[118/500] Train Acc: 0.602898 Loss: 1.312482 | Val Acc: 0.628580 loss: 1.207473\n"
          ]
        },
        {
          "output_type": "stream",
          "name": "stderr",
          "text": [
            "100%|██████████| 212/212 [00:31<00:00,  6.65it/s]\n",
            "100%|██████████| 53/53 [00:05<00:00,  9.95it/s]\n"
          ]
        },
        {
          "output_type": "stream",
          "name": "stdout",
          "text": [
            "[119/500] Train Acc: 0.602985 Loss: 1.312167 | Val Acc: 0.628951 loss: 1.204657\n",
            "saving model with acc 0.629\n"
          ]
        },
        {
          "output_type": "stream",
          "name": "stderr",
          "text": [
            "100%|██████████| 212/212 [00:31<00:00,  6.69it/s]\n",
            "100%|██████████| 53/53 [00:05<00:00,  9.82it/s]\n"
          ]
        },
        {
          "output_type": "stream",
          "name": "stdout",
          "text": [
            "[120/500] Train Acc: 0.603436 Loss: 1.311324 | Val Acc: 0.628801 loss: 1.207029\n"
          ]
        },
        {
          "output_type": "stream",
          "name": "stderr",
          "text": [
            "100%|██████████| 212/212 [00:31<00:00,  6.68it/s]\n",
            "100%|██████████| 53/53 [00:05<00:00,  9.76it/s]\n"
          ]
        },
        {
          "output_type": "stream",
          "name": "stdout",
          "text": [
            "[121/500] Train Acc: 0.603423 Loss: 1.310351 | Val Acc: 0.628466 loss: 1.205826\n"
          ]
        },
        {
          "output_type": "stream",
          "name": "stderr",
          "text": [
            "100%|██████████| 212/212 [00:31<00:00,  6.69it/s]\n",
            "100%|██████████| 53/53 [00:05<00:00,  9.91it/s]\n"
          ]
        },
        {
          "output_type": "stream",
          "name": "stdout",
          "text": [
            "[122/500] Train Acc: 0.603876 Loss: 1.309199 | Val Acc: 0.628756 loss: 1.206130\n"
          ]
        },
        {
          "output_type": "stream",
          "name": "stderr",
          "text": [
            "100%|██████████| 212/212 [00:31<00:00,  6.69it/s]\n",
            "100%|██████████| 53/53 [00:05<00:00,  9.61it/s]\n"
          ]
        },
        {
          "output_type": "stream",
          "name": "stdout",
          "text": [
            "[123/500] Train Acc: 0.603953 Loss: 1.309279 | Val Acc: 0.629186 loss: 1.203439\n",
            "saving model with acc 0.629\n"
          ]
        },
        {
          "output_type": "stream",
          "name": "stderr",
          "text": [
            "100%|██████████| 212/212 [00:32<00:00,  6.61it/s]\n",
            "100%|██████████| 53/53 [00:05<00:00,  9.78it/s]\n"
          ]
        },
        {
          "output_type": "stream",
          "name": "stdout",
          "text": [
            "[124/500] Train Acc: 0.604160 Loss: 1.307621 | Val Acc: 0.629258 loss: 1.204980\n",
            "saving model with acc 0.629\n"
          ]
        },
        {
          "output_type": "stream",
          "name": "stderr",
          "text": [
            "100%|██████████| 212/212 [00:31<00:00,  6.65it/s]\n",
            "100%|██████████| 53/53 [00:05<00:00,  9.61it/s]\n"
          ]
        },
        {
          "output_type": "stream",
          "name": "stdout",
          "text": [
            "[125/500] Train Acc: 0.604117 Loss: 1.308515 | Val Acc: 0.629013 loss: 1.204402\n"
          ]
        },
        {
          "output_type": "stream",
          "name": "stderr",
          "text": [
            "100%|██████████| 212/212 [00:31<00:00,  6.69it/s]\n",
            "100%|██████████| 53/53 [00:05<00:00,  9.60it/s]\n"
          ]
        },
        {
          "output_type": "stream",
          "name": "stdout",
          "text": [
            "[126/500] Train Acc: 0.604367 Loss: 1.307257 | Val Acc: 0.629201 loss: 1.203192\n"
          ]
        },
        {
          "output_type": "stream",
          "name": "stderr",
          "text": [
            "100%|██████████| 212/212 [00:31<00:00,  6.65it/s]\n",
            "100%|██████████| 53/53 [00:05<00:00,  9.92it/s]\n"
          ]
        },
        {
          "output_type": "stream",
          "name": "stdout",
          "text": [
            "[127/500] Train Acc: 0.604355 Loss: 1.306813 | Val Acc: 0.628955 loss: 1.203887\n"
          ]
        },
        {
          "output_type": "stream",
          "name": "stderr",
          "text": [
            "100%|██████████| 212/212 [00:31<00:00,  6.69it/s]\n",
            "100%|██████████| 53/53 [00:05<00:00,  9.72it/s]\n"
          ]
        },
        {
          "output_type": "stream",
          "name": "stdout",
          "text": [
            "[128/500] Train Acc: 0.604526 Loss: 1.306627 | Val Acc: 0.629881 loss: 1.202878\n",
            "saving model with acc 0.630\n"
          ]
        },
        {
          "output_type": "stream",
          "name": "stderr",
          "text": [
            "100%|██████████| 212/212 [00:31<00:00,  6.68it/s]\n",
            "100%|██████████| 53/53 [00:05<00:00,  9.86it/s]\n"
          ]
        },
        {
          "output_type": "stream",
          "name": "stdout",
          "text": [
            "[129/500] Train Acc: 0.604446 Loss: 1.306437 | Val Acc: 0.629032 loss: 1.203013\n"
          ]
        },
        {
          "output_type": "stream",
          "name": "stderr",
          "text": [
            "100%|██████████| 212/212 [00:31<00:00,  6.67it/s]\n",
            "100%|██████████| 53/53 [00:05<00:00,  9.73it/s]\n"
          ]
        },
        {
          "output_type": "stream",
          "name": "stdout",
          "text": [
            "[130/500] Train Acc: 0.604346 Loss: 1.306420 | Val Acc: 0.629580 loss: 1.202216\n"
          ]
        },
        {
          "output_type": "stream",
          "name": "stderr",
          "text": [
            "100%|██████████| 212/212 [00:31<00:00,  6.67it/s]\n",
            "100%|██████████| 53/53 [00:05<00:00,  9.82it/s]\n"
          ]
        },
        {
          "output_type": "stream",
          "name": "stdout",
          "text": [
            "[131/500] Train Acc: 0.605273 Loss: 1.304670 | Val Acc: 0.630010 loss: 1.202754\n",
            "saving model with acc 0.630\n"
          ]
        },
        {
          "output_type": "stream",
          "name": "stderr",
          "text": [
            "100%|██████████| 212/212 [00:31<00:00,  6.66it/s]\n",
            "100%|██████████| 53/53 [00:05<00:00,  9.96it/s]\n"
          ]
        },
        {
          "output_type": "stream",
          "name": "stdout",
          "text": [
            "[132/500] Train Acc: 0.605048 Loss: 1.304517 | Val Acc: 0.629572 loss: 1.202030\n"
          ]
        },
        {
          "output_type": "stream",
          "name": "stderr",
          "text": [
            "100%|██████████| 212/212 [00:31<00:00,  6.70it/s]\n",
            "100%|██████████| 53/53 [00:05<00:00,  9.66it/s]\n"
          ]
        },
        {
          "output_type": "stream",
          "name": "stdout",
          "text": [
            "[133/500] Train Acc: 0.605244 Loss: 1.303763 | Val Acc: 0.630241 loss: 1.200480\n",
            "saving model with acc 0.630\n"
          ]
        },
        {
          "output_type": "stream",
          "name": "stderr",
          "text": [
            "100%|██████████| 212/212 [00:32<00:00,  6.62it/s]\n",
            "100%|██████████| 53/53 [00:05<00:00,  9.83it/s]\n"
          ]
        },
        {
          "output_type": "stream",
          "name": "stdout",
          "text": [
            "[134/500] Train Acc: 0.605270 Loss: 1.302800 | Val Acc: 0.630378 loss: 1.200205\n",
            "saving model with acc 0.630\n"
          ]
        },
        {
          "output_type": "stream",
          "name": "stderr",
          "text": [
            "100%|██████████| 212/212 [00:32<00:00,  6.53it/s]\n",
            "100%|██████████| 53/53 [00:05<00:00,  9.63it/s]\n"
          ]
        },
        {
          "output_type": "stream",
          "name": "stdout",
          "text": [
            "[135/500] Train Acc: 0.605305 Loss: 1.303225 | Val Acc: 0.630705 loss: 1.200005\n",
            "saving model with acc 0.631\n"
          ]
        },
        {
          "output_type": "stream",
          "name": "stderr",
          "text": [
            "100%|██████████| 212/212 [00:31<00:00,  6.65it/s]\n",
            "100%|██████████| 53/53 [00:05<00:00,  9.76it/s]\n"
          ]
        },
        {
          "output_type": "stream",
          "name": "stdout",
          "text": [
            "[136/500] Train Acc: 0.605354 Loss: 1.302339 | Val Acc: 0.630626 loss: 1.199620\n"
          ]
        },
        {
          "output_type": "stream",
          "name": "stderr",
          "text": [
            "100%|██████████| 212/212 [00:31<00:00,  6.66it/s]\n",
            "100%|██████████| 53/53 [00:05<00:00,  9.77it/s]\n"
          ]
        },
        {
          "output_type": "stream",
          "name": "stdout",
          "text": [
            "[137/500] Train Acc: 0.605960 Loss: 1.301890 | Val Acc: 0.630364 loss: 1.200003\n"
          ]
        },
        {
          "output_type": "stream",
          "name": "stderr",
          "text": [
            "100%|██████████| 212/212 [00:31<00:00,  6.67it/s]\n",
            "100%|██████████| 53/53 [00:05<00:00,  9.74it/s]\n"
          ]
        },
        {
          "output_type": "stream",
          "name": "stdout",
          "text": [
            "[138/500] Train Acc: 0.605578 Loss: 1.301348 | Val Acc: 0.630641 loss: 1.198967\n"
          ]
        },
        {
          "output_type": "stream",
          "name": "stderr",
          "text": [
            "100%|██████████| 212/212 [00:31<00:00,  6.67it/s]\n",
            "100%|██████████| 53/53 [00:05<00:00,  9.87it/s]\n"
          ]
        },
        {
          "output_type": "stream",
          "name": "stdout",
          "text": [
            "[139/500] Train Acc: 0.605824 Loss: 1.301225 | Val Acc: 0.630181 loss: 1.200045\n"
          ]
        },
        {
          "output_type": "stream",
          "name": "stderr",
          "text": [
            "100%|██████████| 212/212 [00:31<00:00,  6.69it/s]\n",
            "100%|██████████| 53/53 [00:05<00:00,  9.78it/s]\n"
          ]
        },
        {
          "output_type": "stream",
          "name": "stdout",
          "text": [
            "[140/500] Train Acc: 0.605915 Loss: 1.300670 | Val Acc: 0.630444 loss: 1.200130\n"
          ]
        },
        {
          "output_type": "stream",
          "name": "stderr",
          "text": [
            "100%|██████████| 212/212 [00:31<00:00,  6.65it/s]\n",
            "100%|██████████| 53/53 [00:05<00:00,  9.73it/s]\n"
          ]
        },
        {
          "output_type": "stream",
          "name": "stdout",
          "text": [
            "[141/500] Train Acc: 0.606151 Loss: 1.299615 | Val Acc: 0.630505 loss: 1.199682\n"
          ]
        },
        {
          "output_type": "stream",
          "name": "stderr",
          "text": [
            "100%|██████████| 212/212 [00:31<00:00,  6.69it/s]\n",
            "100%|██████████| 53/53 [00:05<00:00,  9.77it/s]\n"
          ]
        },
        {
          "output_type": "stream",
          "name": "stdout",
          "text": [
            "[142/500] Train Acc: 0.606365 Loss: 1.299644 | Val Acc: 0.630298 loss: 1.200025\n"
          ]
        },
        {
          "output_type": "stream",
          "name": "stderr",
          "text": [
            "100%|██████████| 212/212 [00:31<00:00,  6.66it/s]\n",
            "100%|██████████| 53/53 [00:05<00:00,  9.75it/s]\n"
          ]
        },
        {
          "output_type": "stream",
          "name": "stdout",
          "text": [
            "[143/500] Train Acc: 0.606324 Loss: 1.299775 | Val Acc: 0.630861 loss: 1.197992\n",
            "saving model with acc 0.631\n"
          ]
        },
        {
          "output_type": "stream",
          "name": "stderr",
          "text": [
            "100%|██████████| 212/212 [00:31<00:00,  6.68it/s]\n",
            "100%|██████████| 53/53 [00:05<00:00,  9.98it/s]\n"
          ]
        },
        {
          "output_type": "stream",
          "name": "stdout",
          "text": [
            "[144/500] Train Acc: 0.606621 Loss: 1.299239 | Val Acc: 0.631609 loss: 1.196629\n",
            "saving model with acc 0.632\n"
          ]
        },
        {
          "output_type": "stream",
          "name": "stderr",
          "text": [
            "100%|██████████| 212/212 [00:31<00:00,  6.68it/s]\n",
            "100%|██████████| 53/53 [00:05<00:00,  9.80it/s]\n"
          ]
        },
        {
          "output_type": "stream",
          "name": "stdout",
          "text": [
            "[145/500] Train Acc: 0.606688 Loss: 1.298229 | Val Acc: 0.631010 loss: 1.199459\n"
          ]
        },
        {
          "output_type": "stream",
          "name": "stderr",
          "text": [
            "100%|██████████| 212/212 [00:31<00:00,  6.72it/s]\n",
            "100%|██████████| 53/53 [00:05<00:00,  9.86it/s]\n"
          ]
        },
        {
          "output_type": "stream",
          "name": "stdout",
          "text": [
            "[146/500] Train Acc: 0.606795 Loss: 1.298507 | Val Acc: 0.631018 loss: 1.196606\n"
          ]
        },
        {
          "output_type": "stream",
          "name": "stderr",
          "text": [
            "100%|██████████| 212/212 [00:31<00:00,  6.72it/s]\n",
            "100%|██████████| 53/53 [00:05<00:00,  9.67it/s]\n"
          ]
        },
        {
          "output_type": "stream",
          "name": "stdout",
          "text": [
            "[147/500] Train Acc: 0.606831 Loss: 1.297901 | Val Acc: 0.631262 loss: 1.196327\n"
          ]
        },
        {
          "output_type": "stream",
          "name": "stderr",
          "text": [
            "100%|██████████| 212/212 [00:31<00:00,  6.72it/s]\n",
            "100%|██████████| 53/53 [00:05<00:00,  9.75it/s]\n"
          ]
        },
        {
          "output_type": "stream",
          "name": "stdout",
          "text": [
            "[148/500] Train Acc: 0.607024 Loss: 1.297790 | Val Acc: 0.630948 loss: 1.196389\n"
          ]
        },
        {
          "output_type": "stream",
          "name": "stderr",
          "text": [
            " 84%|████████▍ | 178/212 [00:26<00:04,  7.20it/s]"
          ]
        }
      ],
      "source": [
        "best_acc = 0.0\n",
        "for epoch in range(num_epoch):\n",
        "    train_acc = 0.0\n",
        "    train_loss = 0.0\n",
        "    val_acc = 0.0\n",
        "    val_loss = 0.0\n",
        "    \n",
        "    # training\n",
        "    model.train() # set the model to training mode\n",
        "    for i, batch in enumerate(tqdm(train_loader)):\n",
        "        features, labels = batch\n",
        "        features = features.to(device)\n",
        "        labels = labels.to(device)\n",
        "        \n",
        "        optimizer.zero_grad() \n",
        "        outputs = model(features) \n",
        "        loss = criterion(outputs, labels)\n",
        "        loss.backward() \n",
        "        optimizer.step() \n",
        "        \n",
        "        _, train_pred = torch.max(outputs, 1) # get the index of the class with the highest probability\n",
        "        train_acc += (train_pred.detach() == labels.detach()).sum().item()\n",
        "        train_loss += loss.item()\n",
        "    \n",
        "    # validation\n",
        "    if len(val_set) > 0:\n",
        "        model.eval() # set the model to evaluation mode\n",
        "        with torch.no_grad():\n",
        "            for i, batch in enumerate(tqdm(val_loader)):\n",
        "                features, labels = batch\n",
        "                features = features.to(device)\n",
        "                labels = labels.to(device)\n",
        "                outputs = model(features)\n",
        "                \n",
        "                loss = criterion(outputs, labels) \n",
        "                \n",
        "                _, val_pred = torch.max(outputs, 1) \n",
        "                val_acc += (val_pred.cpu() == labels.cpu()).sum().item() # get the index of the class with the highest probability\n",
        "                val_loss += loss.item()\n",
        "\n",
        "            print('[{:03d}/{:03d}] Train Acc: {:3.6f} Loss: {:3.6f} | Val Acc: {:3.6f} loss: {:3.6f}'.format(\n",
        "                epoch + 1, num_epoch, train_acc/len(train_set), train_loss/len(train_loader), val_acc/len(val_set), val_loss/len(val_loader)\n",
        "            ))\n",
        "\n",
        "            # if the model improves, save a checkpoint at this epoch\n",
        "            if val_acc > best_acc:\n",
        "                best_acc = val_acc\n",
        "                torch.save(model.state_dict(), model_path)\n",
        "                print('saving model with acc {:.3f}'.format(best_acc/len(val_set)))\n",
        "    else:\n",
        "        print('[{:03d}/{:03d}] Train Acc: {:3.6f} Loss: {:3.6f}'.format(\n",
        "            epoch + 1, num_epoch, train_acc/len(train_set), train_loss/len(train_loader)\n",
        "        ))\n",
        "\n",
        "# if not validating, save the last epoch\n",
        "if len(val_set) == 0:\n",
        "    torch.save(model.state_dict(), model_path)\n",
        "    print('saving model at last epoch')\n"
      ]
    },
    {
      "cell_type": "code",
      "source": [
        "hidden_dim"
      ],
      "metadata": {
        "id": "5xK_Acq-mM3C"
      },
      "execution_count": null,
      "outputs": []
    },
    {
      "cell_type": "code",
      "execution_count": null,
      "metadata": {
        "id": "ab33MxosWLmG"
      },
      "outputs": [],
      "source": [
        " del train_loader, val_loader\n",
        "gc.collect()"
      ]
    },
    {
      "cell_type": "markdown",
      "metadata": {
        "id": "1Hi7jTn3PX-m"
      },
      "source": [
        "## Testing\n",
        "Create a testing dataset, and load model from the saved checkpoint."
      ]
    },
    {
      "cell_type": "code",
      "execution_count": null,
      "metadata": {
        "id": "VOG1Ou0PGrhc"
      },
      "outputs": [],
      "source": [
        "# load data\n",
        "test_X = preprocess_data(split='test', feat_dir='./libriphone/feat', phone_path='./libriphone', concat_nframes=concat_nframes)\n",
        "test_set = LibriDataset(test_X, None)\n",
        "test_loader = DataLoader(test_set, batch_size=batch_size, shuffle=False)"
      ]
    },
    {
      "cell_type": "code",
      "execution_count": null,
      "metadata": {
        "id": "ay0Fu8Ovkdad"
      },
      "outputs": [],
      "source": [
        "# load model\n",
        "model = Classifier(input_dim=input_dim, hidden_layers=hidden_layers, hidden_dim=hidden_dim,concat_nframes=31).to(device)\n",
        "model.load_state_dict(torch.load(model_path))"
      ]
    },
    {
      "cell_type": "markdown",
      "metadata": {
        "id": "zp-DV1p4r7Nz"
      },
      "source": [
        "Make prediction."
      ]
    },
    {
      "cell_type": "code",
      "execution_count": null,
      "metadata": {
        "id": "84HU5GGjPqR0"
      },
      "outputs": [],
      "source": [
        "test_acc = 0.0\n",
        "test_lengths = 0\n",
        "pred = np.array([], dtype=np.int32)\n",
        "\n",
        "model.eval()\n",
        "with torch.no_grad():\n",
        "    for i, batch in enumerate(tqdm(test_loader)):\n",
        "        features = batch\n",
        "        features = features.to(device)\n",
        "\n",
        "        outputs = model(features)\n",
        "\n",
        "        _, test_pred = torch.max(outputs, 1) # get the index of the class with the highest probability\n",
        "        pred = np.concatenate((pred, test_pred.cpu().numpy()), axis=0)\n"
      ]
    },
    {
      "cell_type": "markdown",
      "metadata": {
        "id": "wyZqy40Prz0v"
      },
      "source": [
        "Write prediction to a CSV file.\n",
        "\n",
        "After finish running this block, download the file `prediction.csv` from the files section on the left-hand side and submit it to Kaggle."
      ]
    },
    {
      "cell_type": "code",
      "execution_count": null,
      "metadata": {
        "id": "GuljYSPHcZir"
      },
      "outputs": [],
      "source": [
        "with open('/content/drive/MyDrive/lstmpred.csv', 'w') as f:\n",
        "    f.write('Id,Class\\n')\n",
        "    for i, y in enumerate(pred):\n",
        "        f.write('{},{}\\n'.format(i, y))"
      ]
    },
    {
      "cell_type": "code",
      "source": [
        "#0.75481 3*RNN output:全拿 dim:128 lr=0.0001 layer:2 frame=31"
      ],
      "metadata": {
        "id": "AU3f6x9-TNsJ"
      },
      "execution_count": null,
      "outputs": []
    }
  ],
  "metadata": {
    "accelerator": "GPU",
    "colab": {
      "collapsed_sections": [],
      "name": "「「ML2022Spring - HW2.ipynb」的副本」的副本",
      "provenance": [],
      "machine_shape": "hm"
    },
    "kernelspec": {
      "display_name": "Python 3",
      "name": "python3"
    }
  },
  "nbformat": 4,
  "nbformat_minor": 0
}